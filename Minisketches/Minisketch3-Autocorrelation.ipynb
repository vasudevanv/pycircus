{
 "cells": [
  {
   "cell_type": "markdown",
   "metadata": {},
   "source": [
    "# Computing the autocorrelation of a time series\n",
    "\n",
    "Time series analysis has important applications in many areas including finance, electical engineering, biology, climatology etc. An important property of a time series is its autocorrelation function. The autocorrelation quantifies the average similarity between a signal and a shifted version of the same signal, as a function of the delay between the two. In other words, the autocorrelation can give us information about repeating patterns as well as the timescale of the signal's fluctuations. The faster the decay of the autocorrelation to zero, the faster the signal varies.\n",
    "\n",
    "There are various definitions of the autocorrelation function depending on the domain. Here, we define the autocorrelation of a time series as:\n",
    "\n",
    "$ R(k)= \\frac{1}{N} \\sum_{n} x_{n} x_{n+k} $\n",
    "\n",
    "\n",
    "To illustrate computing the autocorrelation function we are going to use the names of babies born in the United States. The Social Security Administration applications are a great way to track trends in baby names over time. Data.gov releases two datasets that include the number of babies with a given name and gender born in a given year. Note that only names with at least 5 babies born in the same year per state are included in this dataset for privacy.\n",
    "\n",
    "The `data` folder in the code repository contains a `Baby-names.zip` folder which has the national data downloaded from the [Social Security Administation's Baby Names portal](https://www.ssa.gov/oact/babynames/limits.html)"
   ]
  },
  {
   "cell_type": "code",
   "execution_count": null,
   "metadata": {},
   "outputs": [],
   "source": [
    "import os\n",
    "import zipfile\n",
    "import numpy\n",
    "import pandas\n",
    "\n",
    "# Setup the file path for zip file\n",
    "data_folder = os.path.abspath('./data/')\n",
    "    \n",
    "# Read file from zip file\n",
    "zip_file = os.path.join(data_folder, 'Baby-names.zip')\n",
    "\n",
    "def list_files_from_zip(zf):\n",
    "    \"\"\"List files in a zip archive\n",
    "    \n",
    "    Parameters\n",
    "    ----------\n",
    "    zf : string or path\n",
    "        Zip archive location\n",
    "    \"\"\"\n",
    "    with zipfile.ZipFile(zf) as z:\n",
    "        files = z.namelist()\n",
    "    return list(files)\n",
    "\n",
    "def read_csv_from_zip(zf, fn, **kwargs):\n",
    "    \"\"\"Read a CSV file from a zip archive\n",
    "    \n",
    "    Parameters\n",
    "    ----------\n",
    "    zf : zipfile.ZipFile instance\n",
    "        ZipFile instance\n",
    "        \n",
    "    fn : str\n",
    "        String name for data file\n",
    "        \n",
    "    Returns\n",
    "    -------\n",
    "    pandas.DataFrame\n",
    "        Contents of CSV read into a DataFrame\n",
    "    \"\"\"\n",
    "    with zipfile.ZipFile(zf) as z:\n",
    "        matching = [s for s in z.namelist() if fn in s]\n",
    "        if not matching:\n",
    "            raise FileNotFoundError('File {} not in zip archive'.format(fn))\n",
    "        else:\n",
    "            zipped_data_file = matching[0]\n",
    "            # Read data from CSV file and confirm type of data\n",
    "            return pandas.read_csv(z.open(zipped_data_file), **kwargs)\n",
    "\n",
    "print(data_folder)\n",
    "print(zip_file)"
   ]
  },
  {
   "cell_type": "code",
   "execution_count": null,
   "metadata": {},
   "outputs": [],
   "source": [
    "# Get a list of file names for analysis\n",
    "files = [file for file in list_files_from_zip(zip_file) if file.startswith('yob')]\n",
    "\n",
    "# Extract the years from file names\n",
    "years = sorted([int(file[3:7]) for file in files])\n",
    "\n",
    "# Extract data from all files into a dictionary \n",
    "# The dictionary is indexed by year\n",
    "# The data from each file is read into a pandas.DataFrame\n",
    "data = { int(year): read_csv_from_zip(zip_file, f, index_col=0, header=None, names=['first_name', 'gender', 'number'])\n",
    "         for f, year in zip(files, years)\n",
    "       }\n",
    "\n",
    "# Each file is read into a pandas.DataFrame\n",
    "print(type(data[1996]))"
   ]
  },
  {
   "cell_type": "code",
   "execution_count": null,
   "metadata": {
    "podoc": {
     "output_text": "Output"
    }
   },
   "outputs": [],
   "source": [
    "# pandas.DataFrame is indexed by the names column in each file\n",
    "data[2016].head()"
   ]
  },
  {
   "cell_type": "code",
   "execution_count": null,
   "metadata": {},
   "outputs": [],
   "source": [
    "def get_value(name, gender, year):\n",
    "    \"\"\"Return the number of babies born a given year,\n",
    "    with a given gender and a given name.\n",
    "    \n",
    "    Parameters\n",
    "    ----------\n",
    "    name: string\n",
    "        Baby name\n",
    "        \n",
    "    gender: string\n",
    "        Gender of the baby. M for male and F for female\n",
    "        \n",
    "    year: int\n",
    "        Year of birth as integer\n",
    "    \n",
    "    Returns\n",
    "    -------\n",
    "    value: int\n",
    "        Number of babies born with given name\n",
    "    \"\"\"\n",
    "    dy = data[year]\n",
    "    try:\n",
    "        return dy[dy['gender'] == gender]['number'][name]\n",
    "    except KeyError:\n",
    "        return 0\n",
    "    \n",
    "print(get_value('Sophie','F', 2000))"
   ]
  },
  {
   "cell_type": "code",
   "execution_count": null,
   "metadata": {},
   "outputs": [],
   "source": [
    "def get_evolution(name, gender):\n",
    "    \"\"\"Evolution of a baby name over the years\n",
    "    \n",
    "    Parameters\n",
    "    ----------\n",
    "    name: string\n",
    "        Baby name\n",
    "        \n",
    "    gender: string\n",
    "        Gender of the baby, either 'M' or 'F'\n",
    "    \n",
    "    Returns\n",
    "    -------\n",
    "    numpy.ndarray\n",
    "        Array of values representing the number with given\n",
    "        name and gender through the entire dataset\n",
    "    \"\"\"\n",
    "    return numpy.array([get_value(name, gender, int(year)) for year in years])"
   ]
  },
  {
   "cell_type": "code",
   "execution_count": null,
   "metadata": {},
   "outputs": [],
   "source": [
    "def autocorrelation(x):\n",
    "    \"\"\"Compute the autocorrelation of a array\n",
    "    \n",
    "    This function uses NumPy's correlate function in \n",
    "    'full' mode. This returns a convolution that includes\n",
    "    the -ve offset. We return the result from time offset\n",
    "    0. Refer to the numpy.convolve documentation for more\n",
    "    information.\n",
    "    \n",
    "    Parameters\n",
    "    ----------\n",
    "    x : numpy.ndarray(shape=(1,))\n",
    "        1-D array of values\n",
    "    \n",
    "    Returns\n",
    "    -------\n",
    "    numpy.ndarray(shape(1,))\n",
    "        Autocorrelation function of x\n",
    "    \"\"\"\n",
    "    result = numpy.correlate(x, x, mode='full')\n",
    "    return result[result.size // 2:]"
   ]
  },
  {
   "cell_type": "code",
   "execution_count": null,
   "metadata": {},
   "outputs": [],
   "source": [
    "def plot_autocorrelation_name(name, gender, color, axes=None):\n",
    "    \"\"\"Compute and plot the autocorrelation given name and gender\n",
    "    \n",
    "    Parameters\n",
    "    ----------\n",
    "    name : string\n",
    "        Baby name\n",
    "        \n",
    "    gender : string\n",
    "        Gender of the baby. Either 'M' or 'F'\n",
    "        \n",
    "    color : string\n",
    "        Valid matplotlib single character color name for \n",
    "        the plot\n",
    "        \n",
    "    axes : matplotlib Axes instance\n",
    "        Matplotlib Axes instance holding the two axes for plotting\n",
    "        the signal and autocorrelation function, respectively.\n",
    "    \"\"\"\n",
    "    x = get_evolution(name, gender)\n",
    "    z = autocorrelation(x)\n",
    "\n",
    "    # Evolution of the name.\n",
    "    axes[0].plot(years, x, '-' + color, label=name)\n",
    "    axes[0].set_title(\"Baby names\")\n",
    "    axes[0].legend()\n",
    "\n",
    "    # Autocorrelation.\n",
    "    axes[1].plot(z / float(z.max()), '-' + color, label=name)\n",
    "    axes[1].legend()\n",
    "    axes[1].set_title(\"Autocorrelation\")"
   ]
  },
  {
   "cell_type": "code",
   "execution_count": null,
   "metadata": {
    "podoc": {
     "output_text": "<matplotlib.figure.Figure at 0xcae9048>"
    }
   },
   "outputs": [],
   "source": [
    "# Compare the autocorrelation of some female names\n",
    "%matplotlib inline\n",
    "\n",
    "import matplotlib.pyplot as plt\n",
    "\n",
    "fig, axes = plt.subplots(1, 2, figsize=(12, 4))\n",
    "plot_autocorrelation_name('Jennifer', 'F', 'r', axes=axes)\n",
    "plot_autocorrelation_name('Maria', 'F', 'g', axes=axes)\n",
    "plot_autocorrelation_name('Anna', 'F', 'b', axes=axes)"
   ]
  },
  {
   "cell_type": "code",
   "execution_count": null,
   "metadata": {},
   "outputs": [],
   "source": [
    "# Gender-neutral name examples\n",
    "fig, axes = plt.subplots(1, 2, figsize=(12, 4))\n",
    "plot_autocorrelation_name('Skyler', 'F', 'g', axes=axes)\n",
    "plot_autocorrelation_name('Skyler', 'M', 'r', axes=axes)"
   ]
  },
  {
   "cell_type": "code",
   "execution_count": null,
   "metadata": {},
   "outputs": [],
   "source": []
  }
 ],
 "metadata": {
  "kernelspec": {
   "display_name": "Python 3",
   "language": "python",
   "name": "python3"
  },
  "language_info": {
   "codemirror_mode": {
    "name": "ipython",
    "version": 3
   },
   "file_extension": ".py",
   "mimetype": "text/x-python",
   "name": "python",
   "nbconvert_exporter": "python",
   "pygments_lexer": "ipython3",
   "version": "3.7.6"
  }
 },
 "nbformat": 4,
 "nbformat_minor": 2
}
