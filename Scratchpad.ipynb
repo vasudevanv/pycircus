{
 "cells": [
  {
   "cell_type": "markdown",
   "metadata": {},
   "source": [
    "# Scratchpad\n",
    "\n",
    "\n",
    "Scratchpad is a collection of code samples that were written for experimental purposes. These routines live here until they are integrated into other sketches."
   ]
  },
  {
   "cell_type": "code",
   "execution_count": null,
   "metadata": {},
   "outputs": [],
   "source": [
    "%matplotlib inline"
   ]
  },
  {
   "cell_type": "markdown",
   "metadata": {},
   "source": [
    "## Plotting heatmaps"
   ]
  },
  {
   "cell_type": "code",
   "execution_count": null,
   "metadata": {},
   "outputs": [],
   "source": [
    "\n",
    "import numpy\n",
    "import pandas\n",
    "import matplotlib.pyplot as plt\n",
    "import matplotlib.gridspec as gridspec\n",
    "import matplotlib as mpl\n",
    "\n",
    "# Read the data\n",
    "fp = open('C:\\\\Users\\\\vvenkate\\\\Desktop\\\\ECTM2017_Plots\\\\K2P2_Normal_data.xlsx','rb')\n",
    "d = pandas.read_excel(fp, sheetname='Sheet1', index_col=0, header=0)\n",
    "td = list(d.columns.values)\n",
    "md = list(d.index)\n",
    "\n",
    "td, md = numpy.meshgrid(numpy.array(td), numpy.array(md))\n",
    "\n",
    "# Setup Figure\n",
    "# Figure size is in inches\n",
    "fig = plt.figure(figsize=(7.0,7.0))\n",
    " \n",
    "# Create a grid for different axes\n",
    "gs = gridspec.GridSpec(3,3)\n",
    " \n",
    "# Create the individual axes\n",
    "ax = fig.add_subplot(gs[0:,0:])\n",
    " \n",
    "# Set all fonts to serif type and use latex to render fonts\n",
    "# plt.style.use('vvplot')\n",
    "\n",
    "# Plot colormap\n",
    "ax.pcolor(td, md, d, cmap='rainbow')\n",
    "\n",
    "# Set labels\n",
    "ax.set_xlabel(r'Transverse Direction')\n",
    "ax.set_ylabel(r'Machine ')\n",
    "\n",
    "# Set limits\n",
    "ax.set_xlim([-725, 725])\n",
    "ax.set_ylim([ 114, 350])\n",
    "\n",
    "# Save a png file\n",
    "fig.show()"
   ]
  },
  {
   "cell_type": "markdown",
   "metadata": {},
   "source": [
    "## Pressure drop estimator for Porous Media\n",
    "\n",
    "The law governing flow of fluids through porous media is Darcy's Law, which states\n",
    "\n",
    "$$ Q = \\frac{-\\kappa A}{\\mu} \\frac{\\Delta P}{L} $$\n",
    "\n",
    "where\n",
    "* $Q$ = total flow rate \n",
    "* $\\Delta P$ = Pressure drop across porous medium\n",
    "* $\\kappa$ = media permeability, \n",
    "* $A$ = total flow area, \n",
    "* $L$   = the thickness of the medium \n",
    "* $\\mu$ = viscosity of the fluid."
   ]
  },
  {
   "cell_type": "code",
   "execution_count": null,
   "metadata": {},
   "outputs": [],
   "source": [
    "import numpy\n",
    "\n",
    "\n",
    "def frazier_to_si(frazier):\n",
    "    \"\"\"Convert Frazier permeability to SI units\n",
    "        \n",
    "    Parameters\n",
    "    ----------\n",
    "    frazier : float\n",
    "        Permeability in frazier units\n",
    "        \n",
    "    Returns\n",
    "    -------\n",
    "    float\n",
    "        Permeability in SI units\n",
    "        \n",
    "    \"\"\"\n",
    "    return frazier*0.00508*0.0000183*0.0007/(0.5*249.1)\n",
    "\n",
    "\n",
    "# Bag properties\n",
    "bag_radius = (5.810/2.0)*0.0254 # 5.8\" to m\n",
    "bag_length = 100.63*0.0254      # 100\" to m\n",
    "bag_thickness = 0.001           # m\n",
    "bag_number = 493\n",
    "bag_permeability = frazier_to_si(4.0) \n",
    "bag_surface_area = bag_number*(2*numpy.pi*bag_radius*bag_length)\n",
    "\n",
    "# Flow rate\n",
    "flow = 11666.67*0.0004719474  # ACFM to m^3/s\n",
    "\n",
    "# Fluid properties\n",
    "viscosity = 1.983E-5 # Pa.s\n",
    "\n",
    "# Compute \n",
    "delta_p = flow * bag_thickness * viscosity/(bag_permeability*bag_surface_area)\n",
    "delta_p_inchow = delta_p*0.00402\n",
    "\n",
    "# Print results\n",
    "print(\"Estimated Pressure Drop = {:.3f} Pa\".format(delta_p))\n",
    "print(\"Estimated Pressure Drop = {:.3f} inches of water\".format(delta_p_inchow))"
   ]
  },
  {
   "cell_type": "markdown",
   "metadata": {},
   "source": [
    "## Kuhlbeck-Leibler Diveregence for sum of IID random variables"
   ]
  },
  {
   "cell_type": "code",
   "execution_count": 1,
   "metadata": {},
   "outputs": [
    {
     "name": "stderr",
     "output_type": "stream",
     "text": [
      "C:\\Users\\vvenkate\\Software\\anaconda\\envs\\py3\\lib\\site-packages\\ipykernel_launcher.py:14: VisibleDeprecationWarning: Passing `normed=True` on non-uniform bins has always been broken, and computes neither the probability density function nor the probability mass function. The result is only correct if the bins are uniform, when density=True will produce the same result anyway. The argument will be removed in a future version of numpy.\n",
      "  \n",
      "C:\\Users\\vvenkate\\Software\\anaconda\\envs\\py3\\lib\\site-packages\\numpy\\lib\\histograms.py:908: RuntimeWarning: invalid value encountered in true_divide\n",
      "  return n/db/n.sum(), bin_edges\n"
     ]
    },
    {
     "data": {
      "image/png": "[encoded data removed]",
      "text/plain": [
       "<Figure size 432x288 with 1 Axes>"
      ]
     },
     "metadata": {
      "needs_background": "light"
     },
     "output_type": "display_data"
    }
   ],
   "source": [
    "import numpy\n",
    "import numpy.random \n",
    "import scipy.stats\n",
    "\n",
    "import matplotlib.pyplot as plt\n",
    "\n",
    "# Generate a gaussian random variable\n",
    "nsamples = 1000000\n",
    "nrvs_start =  2\n",
    "nrvs_end = 2\n",
    "\n",
    "bins = numpy.linspace(-0.5,0.5)\n",
    "q1 = numpy.random.normal(0,1,nsamples)\n",
    "qx ,binq = numpy.histogram(q1, normed=True)\n",
    "\n",
    "plt.plot(binq[:-1], qx)\n",
    "\n",
    "px =[] \n",
    "for i in range(nrvs_start, nrvs_end+1):\n",
    "    p = numpy.zeros(nsamples)\n",
    "    for j in range(i):\n",
    "        p = p + numpy.random.uniform(nsamples)\n",
    "    p = p/i - 0.5\n",
    "    px, binp = numpy.histogram(p, bins, density=True)\n",
    "    # plt.bar(bins[:-1], px)\n",
    "    \n",
    "plt.show()\n",
    "    \n",
    "    "
   ]
  },
  {
   "cell_type": "markdown",
   "metadata": {
    "collapsed": true
   },
   "source": [
    "## Generating number blocks for reading excel sheet data"
   ]
  },
  {
   "cell_type": "code",
   "execution_count": null,
   "metadata": {},
   "outputs": [],
   "source": [
    "import numpy\n",
    "import itertools\n",
    "\n",
    "block_nrows = [ ['Header',     3 ],\n",
    "                ['Section1',  21 ],\n",
    "                ['Section2',  21 ]]\n",
    "\n",
    "def get_blocks(block_nrows,start_row, start_col, end_col):\n",
    "    names = [list(a) for a in zip(*block_nrows)][0]\n",
    "    bs = [0] + [list(a) for a in zip(*block_nrows)][1]\n",
    "    \n",
    "    rs = (start_row + \n",
    "          numpy.array(list(itertools.accumulate(bs))) + \n",
    "          numpy.arange(len(bs)))\n",
    "    \n",
    "    block_array = [ (n, a, b, start_col, end_col) \n",
    "                   for n,a,b in zip(names,\n",
    "                                    rs[:-1].astype(int).tolist(),\n",
    "                                    (rs-2)[1:].astype(int).tolist()) ]\n",
    "    \n",
    "    return block_array\n",
    "\n",
    "print(get_blocks(block_nrows,20,3,22))"
   ]
  },
  {
   "cell_type": "markdown",
   "metadata": {},
   "source": [
    "## Partitioning a set of objects"
   ]
  },
  {
   "cell_type": "code",
   "execution_count": null,
   "metadata": {},
   "outputs": [],
   "source": [
    "# Generates set partitions recursively\n",
    "def partitions(set_):\n",
    "    if not set_:\n",
    "        yield []\n",
    "        return\n",
    "    for i in range(2**len(set_)//2):\n",
    "        parts = [set(), set()]\n",
    "        for item in set_:\n",
    "            parts[i&1].add(item)\n",
    "            i >>= 1\n",
    "        for b in partitions(parts[1]):\n",
    "            yield [parts[0]]+b\n",
    "            \n",
    "for a in partitions(set(range(1,5))):\n",
    "    if all(len(x) == 2 for x in a):\n",
    "        print(a)\n",
    "        \n",
    "print(list(partitions(set(range(1,5)))))"
   ]
  },
  {
   "cell_type": "markdown",
   "metadata": {},
   "source": [
    "## Lognormal distributions in python"
   ]
  },
  {
   "cell_type": "code",
   "execution_count": null,
   "metadata": {},
   "outputs": [],
   "source": [
    "import numpy.random\n",
    "import matplotlib.pyplot as plt\n",
    "\n",
    "\n",
    "mu, sigma = 3., 1. # mean and standard deviation\n",
    "s = numpy.random.lognormal(mu, sigma, 1000)\n",
    "\n",
    "count, bins, ignored = plt.hist(s, 100, normed=True, align='mid')\n",
    "plt.show()"
   ]
  },
  {
   "cell_type": "markdown",
   "metadata": {
    "collapsed": true
   },
   "source": [
    "## Ensure files are open in correct mode"
   ]
  },
  {
   "cell_type": "code",
   "execution_count": null,
   "metadata": {},
   "outputs": [],
   "source": [
    "import inspect\n",
    "\n",
    "def ensure_mode(*mode):\n",
    "    \"\"\"Decorator to validate file modes\n",
    "    \n",
    "    This decorator validates whether a file is open in the correct\n",
    "    mode before a function acts on it. \n",
    "    \n",
    "    Parameters\n",
    "    ----------\n",
    "    mode : str or list\n",
    "        One or more of the allowed modes - 'w', 'r', 'a'   \n",
    "    \"\"\"\n",
    "    def inner(f):\n",
    "        @wraps(f)\n",
    "        def wrapper(*args, **kwargs):\n",
    "            # args[0] is self on the method\n",
    "            if args[0].mode in mode:\n",
    "                return f(*args, **kwargs)\n",
    "            raise ValueError('Operation available only in {}'.format(args[0].mode))\n",
    "        setattr(wrapper, '__argspec__', inspect.getargspec(f))\n",
    "        return wrapper\n",
    "    return inner"
   ]
  },
  {
   "cell_type": "markdown",
   "metadata": {},
   "source": [
    "## Type checking function arguments"
   ]
  },
  {
   "cell_type": "code",
   "execution_count": null,
   "metadata": {},
   "outputs": [],
   "source": [
    "from inspect import signature\n",
    "from functools import wraps\n",
    "\n",
    "def typeassert(*ty_args, **ty_kwargs):\n",
    "    \"\"\"Assert types of arguments passed to functions\n",
    "    \n",
    "    Examples\n",
    "    --------\n",
    "    @typeassert(int, int)\n",
    "    def add(x, y):\n",
    "        return x + y\n",
    "    \"\"\"\n",
    "    def decorate(func):\n",
    "        if not __debug__:\n",
    "            return func\n",
    "\n",
    "        # Map function argument names to supplied types\n",
    "        sig = signature(func)\n",
    "        bound_types = sig.bind_partial(*ty_args, **ty_kwargs).arguments\n",
    "\n",
    "        @wraps(func)\n",
    "        def wrapper(*args, **kwargs):\n",
    "            bound_values = sig.bind(*args, **kwargs)\n",
    "            # Enforce type assertions across supplied arguments\n",
    "            for name, value in bound_values.arguments.items():\n",
    "                if name in bound_types:\n",
    "                    if not isinstance(value, bound_types[name]):\n",
    "                      raise TypeError(\n",
    "                        'Argument {} must be {}'.format(name, bound_types[name])\n",
    "                        )\n",
    "            return func(*args, **kwargs)\n",
    "        return wrapper\n",
    "    return decorate"
   ]
  },
  {
   "cell_type": "markdown",
   "metadata": {},
   "source": [
    "## Truncated shifted Gaussian random variables"
   ]
  },
  {
   "cell_type": "code",
   "execution_count": 2,
   "metadata": {},
   "outputs": [
    {
     "name": "stderr",
     "output_type": "stream",
     "text": [
      "C:\\Users\\vvenkate\\Software\\anaconda\\envs\\py3\\lib\\site-packages\\ipykernel_launcher.py:70: MatplotlibDeprecationWarning: \n",
      "The 'normed' kwarg was deprecated in Matplotlib 2.1 and will be removed in 3.1. Use 'density' instead.\n"
     ]
    },
    {
     "data": {
      "image/png": "[encoded data removed]",
      "text/plain": [
       "<Figure size 432x288 with 1 Axes>"
      ]
     },
     "metadata": {
      "needs_background": "light"
     },
     "output_type": "display_data"
    }
   ],
   "source": [
    "# Truncated shifted gaussian\n",
    "\n",
    "import numpy\n",
    "import scipy\n",
    "import numpy.random\n",
    "from scipy.stats import rv_continuous\n",
    "from scipy.special import erf\n",
    "import matplotlib.pyplot as plt\n",
    "\n",
    "class truncshiftgaussian_gen(scipy.stats.rv_continuous):\n",
    "    \"\"\"Truncated and Shifted Gaussian distribution\n",
    "    \n",
    "    Results in a symmetric truncated gaussian.\n",
    "\n",
    "    Notes\n",
    "    -----\n",
    "    The standard form of this distribution is a standard normal truncated to\n",
    "    the range [mu-a, mu+a] --- notice that a is defined over the domain of the\n",
    "    standard normal.  To convert clip values for a specific mean and standard\n",
    "    deviation, use::\n",
    "\n",
    "        a = (myclip_a - my_mean) / my_std\n",
    "\n",
    "    where myclip_a is the clip value for your specific mean and standard deviation\n",
    "\n",
    "    \"\"\"\n",
    "    def _pdf(self, x, ac):\n",
    "        k = numpy.sqrt(2*numpy.pi)*erf(ac/numpy.sqrt(2)) - 2*ac*numpy.exp(-ac**2/2)\n",
    "        hs = lambda x: 0.5*(numpy.sign(x)+1)\n",
    "        return hs(ac-numpy.abs(x))*(numpy.exp(-x**2/2) - numpy.exp(-ac**2/2))/k\n",
    "\n",
    "def truncshiftnorm(mu, sigma, alpha, dim):\n",
    "    \"\"\"Return random numbers from a truncated and shifted gaussian distribution\n",
    "\n",
    "    Parameters\n",
    "    ----------\n",
    "    mu : float\n",
    "        Mean\n",
    "\n",
    "    sig : float\n",
    "        Standard Deviation\n",
    "        \n",
    "    alpha : float\n",
    "        Truncation interval as multiple of standard deviation\n",
    "\n",
    "    dim : list-like or int\n",
    "        Number of random numbers to be drawn \n",
    "\n",
    "    Returns\n",
    "    -------\n",
    "    numpy.ndarray\n",
    "         Array of random numbers drawn from a gaussian distribution\n",
    "         with mean mu and standard deviation sigma\n",
    "\n",
    "    Notes\n",
    "    -----\n",
    "    Truncation is symmetric about the mean\n",
    "\n",
    "    \"\"\"\n",
    "    assert alpha > 0\n",
    "    truncshiftgaussian = truncshiftgaussian_gen(a = -alpha/sigma, b = alpha/sigma, name='truncshiftgaussian')\n",
    "    X = truncshiftgaussian(alpha/sigma, loc=mu, scale=sigma)\n",
    "    # return X.rvs(dim)\n",
    "    return X\n",
    "\n",
    "a = truncshiftnorm(15, 1, 2, 10000)\n",
    "x = numpy.linspace(10,20,1000)\n",
    "\n",
    "fig, ax = plt.subplots(1,1)\n",
    "ax.hist(a.rvs(1000), normed=True, histtype='stepfilled')\n",
    "ax.plot(x, a.pdf(x), 'k-', lw=2, label='frozen pdf')\n",
    "\n",
    "plt.show()"
   ]
  },
  {
   "cell_type": "markdown",
   "metadata": {},
   "source": [
    "## Noisy data smoothing and moving averages"
   ]
  },
  {
   "cell_type": "code",
   "execution_count": 1,
   "metadata": {},
   "outputs": [
    {
     "data": {
      "image/png": "[encoded data removed]",
      "text/plain": [
       "<Figure size 892.8x604.8 with 2 Axes>"
      ]
     },
     "metadata": {
      "needs_background": "light"
     },
     "output_type": "display_data"
    }
   ],
   "source": [
    "%matplotlib inline\n",
    "\n",
    "import pandas\n",
    "import numpy\n",
    "import scipy.signal\n",
    "import matplotlib.pyplot as plt\n",
    "import matplotlib.gridspec as gridspec\n",
    "\n",
    "def holt_winters_second_order_ewma( x, span, beta ):\n",
    "    \"\"\"Holt-Winters second order EWMA\n",
    "    \n",
    "    See https://www.itl.nist.gov/div898/handbook/pmc/section4/pmc433.htm\n",
    "    \n",
    "    There are two equations associated with Double Exponential Smoothing.\n",
    "    The current value of the series is used to calculate its smoothed value \n",
    "    replacement in double exponential smoothing.\n",
    "    \n",
    "    \\begin{eqnarray}\n",
    "        S_t & = & \\alpha y_t + (1 - \\alpha)(S_{t-1} + b_{t-1}) & & 0 \\le \\alpha \\le 1 \\\\\n",
    "            &   &  \\\\\n",
    "        b_t & = & \\beta(S_t - S_{t-1}) + (1 - \\gamma) b_{t-1} & & 0 \\le \\gamma \\le 1 \n",
    "    \\end{eqnarray}\n",
    "    \n",
    "    Parameters\n",
    "    ----------\n",
    "    x: numpy.ndarray\n",
    "        Data array\n",
    "    \n",
    "    span: float\n",
    "        Span over which smoothing occurs\n",
    "        \n",
    "    beta : float\n",
    "        Second smoothing parameter\n",
    "    \n",
    "    Return\n",
    "    ------\n",
    "    numpy.ndarray\n",
    "        Smoothed data\n",
    "    \"\"\"\n",
    "    N = x.size\n",
    "    alpha = 2.0 / ( 1 + span )\n",
    "    s = numpy.zeros(( N, ))\n",
    "    b = numpy.zeros(( N, ))\n",
    "    s[0] = x[0]\n",
    "    for i in range( 1, N ):\n",
    "        s[i] = alpha * x[i] + ( 1 - alpha )*( s[i-1] + b[i-1] )\n",
    "        b[i] = beta * ( s[i] - s[i-1] ) + ( 1 - beta ) * b[i-1]\n",
    "    return s\n",
    "\n",
    "# Savitsky-Golay\n",
    "savitsky_golay = scipy.signal.savgol_filter\n",
    "    \n",
    "# Cook up some noisy data\n",
    "x = numpy.linspace(0,1,100)\n",
    "x = numpy.hstack((x,x[::-1]))\n",
    "y = x + numpy.random.normal( loc=0, scale=0.1, size=200 )\n",
    "\n",
    "# Plot \n",
    "fig = plt.figure(figsize=(12.40,8.40))\n",
    "gs = gridspec.GridSpec(2, 1)\n",
    "ax1 = fig.add_subplot(gs[0, 0])\n",
    "ax2 = fig.add_subplot(gs[1, 0])\n",
    "\n",
    "# Raw data\n",
    "ax1.plot( y, 'k', lw=2, alpha=0.4, label='Raw' )\n",
    "ax2.plot( y, 'k', lw=2, alpha=0.4, label='Raw' )\n",
    "# ax3.plot( y, 'k', lw=2, alpha=0.4, label='Raw' )\n",
    "\n",
    "# Holt-Winters EWMA\n",
    "ax1.plot( holt_winters_second_order_ewma( y, 20, 0.3 ), 'b', lw=2, label='Holt-Winters, span = 30, b = 0.3' )\n",
    "\n",
    "# Savitsky-Golay\n",
    "ax2.plot( savitsky_golay(y, 21, 3), 'g', lw=2, label='Savitsky-Golay, window = 21, order = 3')\n",
    "\n",
    "ax1.legend(loc=8)\n",
    "ax2.legend(loc=8)\n",
    "\n",
    "plt.show()"
   ]
  },
  {
   "cell_type": "markdown",
   "metadata": {},
   "source": [
    "# Performing operations on pandas groupby groups"
   ]
  },
  {
   "cell_type": "code",
   "execution_count": 39,
   "metadata": {},
   "outputs": [
    {
     "data": {
      "text/plain": [
       "DatetimeIndex(['2016-07-30', '2017-01-11', '2015-11-28', '2015-01-22',\n",
       "               '2015-06-29', '2015-07-02', '2015-11-14', '2015-08-07',\n",
       "               '2017-05-20', '2016-06-30'],\n",
       "              dtype='datetime64[ns]', freq=None)"
      ]
     },
     "execution_count": 39,
     "metadata": {},
     "output_type": "execute_result"
    }
   ],
   "source": [
    "import pandas\n",
    "import numpy\n",
    "\n",
    "def random_dates(start, end, is_datetime=True, n=10): \n",
    "    \"\"\"Generating random datetimes\n",
    "    \n",
    "    \n",
    "    Unix timestamp is in ns by default. The function divides the unix time value by 10**9 \n",
    "    to make it seconds (or 24*60*60*10**9 to make it days). The corresponding unit variable \n",
    "    is passed to the pandas.to_datetime function. \n",
    "    \n",
    "    Parameters\n",
    "    ----------\n",
    "    start: datetime.datetime\n",
    "        Starting date\n",
    "        \n",
    "    end: datetime.datetime\n",
    "        End date of range\n",
    "        \n",
    "    n: int\n",
    "        Number of date times to generate\n",
    "        \n",
    "    is_datetime: Bool\n",
    "        Is the output format datetime or \n",
    "    \"\"\"\n",
    "    (divide_by, unit) = (10**9, 's') if is_datetime else (24*60*60*10**9, 'D')\n",
    "\n",
    "    start_u = start.value//divide_by\n",
    "    end_u = end.value//divide_by\n",
    "\n",
    "    return pandas.to_datetime(numpy.random.randint(start_u, end_u, n), unit=unit) \n",
    "\n",
    "start = pandas.to_datetime('2015-01-01')\n",
    "end = pandas.to_datetime('2018-01-01')\n",
    "random_dates(start, end, is_datetime=False)"
   ]
  },
  {
   "cell_type": "code",
   "execution_count": 31,
   "metadata": {},
   "outputs": [
    {
     "data": {
      "text/html": [
       "<div>\n",
       "<style scoped>\n",
       "    .dataframe tbody tr th:only-of-type {\n",
       "        vertical-align: middle;\n",
       "    }\n",
       "\n",
       "    .dataframe tbody tr th {\n",
       "        vertical-align: top;\n",
       "    }\n",
       "\n",
       "    .dataframe thead th {\n",
       "        text-align: right;\n",
       "    }\n",
       "</style>\n",
       "<table border=\"1\" class=\"dataframe\">\n",
       "  <thead>\n",
       "    <tr style=\"text-align: right;\">\n",
       "      <th></th>\n",
       "      <th>c</th>\n",
       "      <th>mtype</th>\n",
       "      <th>dates</th>\n",
       "    </tr>\n",
       "  </thead>\n",
       "  <tbody>\n",
       "    <tr>\n",
       "      <th>0</th>\n",
       "      <td>1</td>\n",
       "      <td>m</td>\n",
       "      <td>2018-01-01</td>\n",
       "    </tr>\n",
       "    <tr>\n",
       "      <th>1</th>\n",
       "      <td>2</td>\n",
       "      <td>m</td>\n",
       "      <td>2019-03-01</td>\n",
       "    </tr>\n",
       "    <tr>\n",
       "      <th>2</th>\n",
       "      <td>3</td>\n",
       "      <td>m</td>\n",
       "      <td>2020-01-01</td>\n",
       "    </tr>\n",
       "    <tr>\n",
       "      <th>3</th>\n",
       "      <td>5</td>\n",
       "      <td>n</td>\n",
       "      <td>2019-03-01</td>\n",
       "    </tr>\n",
       "    <tr>\n",
       "      <th>4</th>\n",
       "      <td>6</td>\n",
       "      <td>n</td>\n",
       "      <td>2019-05-01</td>\n",
       "    </tr>\n",
       "    <tr>\n",
       "      <th>5</th>\n",
       "      <td>5</td>\n",
       "      <td>n</td>\n",
       "      <td>2020-03-01</td>\n",
       "    </tr>\n",
       "    <tr>\n",
       "      <th>6</th>\n",
       "      <td>6</td>\n",
       "      <td>n</td>\n",
       "      <td>2020-01-01</td>\n",
       "    </tr>\n",
       "  </tbody>\n",
       "</table>\n",
       "</div>"
      ],
      "text/plain": [
       "   c mtype      dates\n",
       "0  1     m 2018-01-01\n",
       "1  2     m 2019-03-01\n",
       "2  3     m 2020-01-01\n",
       "3  5     n 2019-03-01\n",
       "4  6     n 2019-05-01\n",
       "5  5     n 2020-03-01\n",
       "6  6     n 2020-01-01"
      ]
     },
     "metadata": {},
     "output_type": "display_data"
    }
   ],
   "source": [
    "import pandas\n",
    "import datetime\n",
    "\n",
    "dates = [pandas.to_datetime(x) for x in ['2018-01-01', '2019-03-01', '2020-01-01', '2019-03-01',\n",
    "                                         '2019-05-01', '2020-03-01', '2020-01-01']]\n",
    "\n",
    "df = pandas.DataFrame({'c':[1,2,3,5,6,5,6],'mtype':['m','m','m','n','n','n','n'], 'dates':dates})\n",
    "display(df)"
   ]
  },
  {
   "cell_type": "code",
   "execution_count": 32,
   "metadata": {},
   "outputs": [
    {
     "name": "stdout",
     "output_type": "stream",
     "text": [
      "   c mtype      dates\n",
      "0  1     m 2018-01-01\n",
      "1  2     m 2019-03-01\n",
      "2  3     m 2020-01-01\n",
      "   c mtype      dates\n",
      "3  5     n 2019-03-01\n",
      "4  6     n 2019-05-01\n",
      "5  5     n 2020-03-01\n",
      "6  6     n 2020-01-01\n"
     ]
    }
   ],
   "source": [
    "gf = df.groupby('mtype')\n",
    "\n",
    "for g in gf:\n",
    "    print(g[1])"
   ]
  },
  {
   "cell_type": "code",
   "execution_count": 35,
   "metadata": {},
   "outputs": [
    {
     "data": {
      "text/html": [
       "<div>\n",
       "<style scoped>\n",
       "    .dataframe tbody tr th:only-of-type {\n",
       "        vertical-align: middle;\n",
       "    }\n",
       "\n",
       "    .dataframe tbody tr th {\n",
       "        vertical-align: top;\n",
       "    }\n",
       "\n",
       "    .dataframe thead th {\n",
       "        text-align: right;\n",
       "    }\n",
       "</style>\n",
       "<table border=\"1\" class=\"dataframe\">\n",
       "  <thead>\n",
       "    <tr style=\"text-align: right;\">\n",
       "      <th></th>\n",
       "      <th>c</th>\n",
       "      <th>mtype</th>\n",
       "      <th>dates</th>\n",
       "      <th>dates50</th>\n",
       "    </tr>\n",
       "  </thead>\n",
       "  <tbody>\n",
       "    <tr>\n",
       "      <th>0</th>\n",
       "      <td>1</td>\n",
       "      <td>m</td>\n",
       "      <td>2018-01-01</td>\n",
       "      <td>2019-03-01</td>\n",
       "    </tr>\n",
       "    <tr>\n",
       "      <th>1</th>\n",
       "      <td>2</td>\n",
       "      <td>m</td>\n",
       "      <td>2019-03-01</td>\n",
       "      <td>2019-03-01</td>\n",
       "    </tr>\n",
       "    <tr>\n",
       "      <th>2</th>\n",
       "      <td>3</td>\n",
       "      <td>m</td>\n",
       "      <td>2020-01-01</td>\n",
       "      <td>2019-03-01</td>\n",
       "    </tr>\n",
       "    <tr>\n",
       "      <th>3</th>\n",
       "      <td>5</td>\n",
       "      <td>n</td>\n",
       "      <td>2019-03-01</td>\n",
       "      <td>2019-05-01</td>\n",
       "    </tr>\n",
       "    <tr>\n",
       "      <th>4</th>\n",
       "      <td>6</td>\n",
       "      <td>n</td>\n",
       "      <td>2019-05-01</td>\n",
       "      <td>2019-05-01</td>\n",
       "    </tr>\n",
       "    <tr>\n",
       "      <th>5</th>\n",
       "      <td>5</td>\n",
       "      <td>n</td>\n",
       "      <td>2020-03-01</td>\n",
       "      <td>2019-05-01</td>\n",
       "    </tr>\n",
       "    <tr>\n",
       "      <th>6</th>\n",
       "      <td>6</td>\n",
       "      <td>n</td>\n",
       "      <td>2020-01-01</td>\n",
       "      <td>2019-05-01</td>\n",
       "    </tr>\n",
       "  </tbody>\n",
       "</table>\n",
       "</div>"
      ],
      "text/plain": [
       "   c mtype      dates    dates50\n",
       "0  1     m 2018-01-01 2019-03-01\n",
       "1  2     m 2019-03-01 2019-03-01\n",
       "2  3     m 2020-01-01 2019-03-01\n",
       "3  5     n 2019-03-01 2019-05-01\n",
       "4  6     n 2019-05-01 2019-05-01\n",
       "5  5     n 2020-03-01 2019-05-01\n",
       "6  6     n 2020-01-01 2019-05-01"
      ]
     },
     "execution_count": 35,
     "metadata": {},
     "output_type": "execute_result"
    }
   ],
   "source": [
    "import numpy\n",
    "\n",
    "# Get the max date\n",
    "def idx_mid(df):\n",
    "    cfcol = df['c'].to_numpy()\n",
    "    cfcol = numpy.cumsum(cfcol)/numpy.sum(cfcol)\n",
    "    idx = numpy.argwhere(cfcol > 0.5)[0][0]\n",
    "    df[\"dates50\"] = df['dates'].iloc[idx-1]\n",
    "    return df\n",
    "\n",
    "gf.apply(idx_mid)"
   ]
  },
  {
   "cell_type": "markdown",
   "metadata": {},
   "source": [
    "## Dataclasses and averaging numerical values of attributes"
   ]
  },
  {
   "cell_type": "code",
   "execution_count": null,
   "metadata": {},
   "outputs": [],
   "source": [
    "import numpy\n",
    "import dataclasses\n",
    "\n",
    "@dataclasses.dataclass\n",
    "class C:\n",
    "  a: float\n",
    "  b: float\n",
    "\n",
    "  @staticmethod\n",
    "  def mean(*args):\n",
    "    mean = numpy.mean([[c.a, c.b] for c in args], axis=0)\n",
    "    return C(mean[0], mean[1])\n",
    "\n",
    "c1 = C(5, 6)\n",
    "c2 = C(10, 12)\n",
    "\n",
    "c3 = C.mean(c1, c2)\n",
    "print(c3.a, c3.b)\n"
   ]
  },
  {
   "cell_type": "markdown",
   "metadata": {},
   "source": [
    "## Dataclass inheritance"
   ]
  },
  {
   "cell_type": "code",
   "execution_count": 5,
   "metadata": {},
   "outputs": [
    {
     "ename": "TypeError",
     "evalue": "non-default argument 'a' follows default argument",
     "output_type": "error",
     "traceback": [
      "\u001b[1;31m--------------------------------------------------\u001b[0m",
      "\u001b[1;31mTypeError\u001b[0m        Traceback (most recent call last)",
      "\u001b[1;32m<ipython-input-5-64e99927544f>\u001b[0m in \u001b[0;36m<module>\u001b[1;34m\u001b[0m\n\u001b[0;32m     21\u001b[0m \u001b[1;33m\u001b[0m\u001b[0m\n\u001b[0;32m     22\u001b[0m \u001b[1;33m@\u001b[0m\u001b[0mdataclass\u001b[0m\u001b[1;33m\u001b[0m\u001b[1;33m\u001b[0m\u001b[0m\n\u001b[1;32m---> 23\u001b[1;33m \u001b[1;32mclass\u001b[0m \u001b[0mCd\u001b[0m\u001b[1;33m(\u001b[0m\u001b[0mDataMetaC\u001b[0m\u001b[1;33m)\u001b[0m\u001b[1;33m:\u001b[0m\u001b[1;33m\u001b[0m\u001b[1;33m\u001b[0m\u001b[0m\n\u001b[0m\u001b[0;32m     24\u001b[0m     \u001b[0ma\u001b[0m\u001b[1;33m:\u001b[0m \u001b[0mfloat\u001b[0m\u001b[1;33m\u001b[0m\u001b[1;33m\u001b[0m\u001b[0m\n\u001b[0;32m     25\u001b[0m     \u001b[0mb\u001b[0m\u001b[1;33m:\u001b[0m \u001b[0mfloat\u001b[0m\u001b[1;33m\u001b[0m\u001b[1;33m\u001b[0m\u001b[0m\n",
      "\u001b[1;32m~\\Software\\anaconda\\envs\\py3\\lib\\dataclasses.py\u001b[0m in \u001b[0;36mdataclass\u001b[1;34m(cls, init, repr, eq, order, unsafe_hash, frozen)\u001b[0m\n\u001b[0;32m   1017\u001b[0m \u001b[1;33m\u001b[0m\u001b[0m\n\u001b[0;32m   1018\u001b[0m     \u001b[1;31m# We're called as @dataclass without parens.\u001b[0m\u001b[1;33m\u001b[0m\u001b[1;33m\u001b[0m\u001b[1;33m\u001b[0m\u001b[0m\n\u001b[1;32m-> 1019\u001b[1;33m     \u001b[1;32mreturn\u001b[0m \u001b[0mwrap\u001b[0m\u001b[1;33m(\u001b[0m\u001b[0mcls\u001b[0m\u001b[1;33m)\u001b[0m\u001b[1;33m\u001b[0m\u001b[1;33m\u001b[0m\u001b[0m\n\u001b[0m\u001b[0;32m   1020\u001b[0m \u001b[1;33m\u001b[0m\u001b[0m\n\u001b[0;32m   1021\u001b[0m \u001b[1;33m\u001b[0m\u001b[0m\n",
      "\u001b[1;32m~\\Software\\anaconda\\envs\\py3\\lib\\dataclasses.py\u001b[0m in \u001b[0;36mwrap\u001b[1;34m(cls)\u001b[0m\n\u001b[0;32m   1009\u001b[0m \u001b[1;33m\u001b[0m\u001b[0m\n\u001b[0;32m   1010\u001b[0m     \u001b[1;32mdef\u001b[0m \u001b[0mwrap\u001b[0m\u001b[1;33m(\u001b[0m\u001b[0mcls\u001b[0m\u001b[1;33m)\u001b[0m\u001b[1;33m:\u001b[0m\u001b[1;33m\u001b[0m\u001b[1;33m\u001b[0m\u001b[0m\n\u001b[1;32m-> 1011\u001b[1;33m         \u001b[1;32mreturn\u001b[0m \u001b[0m_process_class\u001b[0m\u001b[1;33m(\u001b[0m\u001b[0mcls\u001b[0m\u001b[1;33m,\u001b[0m \u001b[0minit\u001b[0m\u001b[1;33m,\u001b[0m \u001b[0mrepr\u001b[0m\u001b[1;33m,\u001b[0m \u001b[0meq\u001b[0m\u001b[1;33m,\u001b[0m \u001b[0morder\u001b[0m\u001b[1;33m,\u001b[0m \u001b[0munsafe_hash\u001b[0m\u001b[1;33m,\u001b[0m \u001b[0mfrozen\u001b[0m\u001b[1;33m)\u001b[0m\u001b[1;33m\u001b[0m\u001b[1;33m\u001b[0m\u001b[0m\n\u001b[0m\u001b[0;32m   1012\u001b[0m \u001b[1;33m\u001b[0m\u001b[0m\n\u001b[0;32m   1013\u001b[0m     \u001b[1;31m# See if we're being called as @dataclass or @dataclass().\u001b[0m\u001b[1;33m\u001b[0m\u001b[1;33m\u001b[0m\u001b[1;33m\u001b[0m\u001b[0m\n",
      "\u001b[1;32m~\\Software\\anaconda\\envs\\py3\\lib\\dataclasses.py\u001b[0m in \u001b[0;36m_process_class\u001b[1;34m(cls, init, repr, eq, order, unsafe_hash, frozen)\u001b[0m\n\u001b[0;32m    923\u001b[0m                 if f._field_type in (_FIELD, _FIELD_INITVAR)]\n\u001b[0;32m    924\u001b[0m         _set_new_attribute(cls, '__init__',\n\u001b[1;32m--> 925\u001b[1;33m                            _init_fn(flds,\n\u001b[0m\u001b[0;32m    926\u001b[0m                                     \u001b[0mfrozen\u001b[0m\u001b[1;33m,\u001b[0m\u001b[1;33m\u001b[0m\u001b[1;33m\u001b[0m\u001b[0m\n\u001b[0;32m    927\u001b[0m                                     \u001b[0mhas_post_init\u001b[0m\u001b[1;33m,\u001b[0m\u001b[1;33m\u001b[0m\u001b[1;33m\u001b[0m\u001b[0m\n",
      "\u001b[1;32m~\\Software\\anaconda\\envs\\py3\\lib\\dataclasses.py\u001b[0m in \u001b[0;36m_init_fn\u001b[1;34m(fields, frozen, has_post_init, self_name, globals)\u001b[0m\n\u001b[0;32m    500\u001b[0m                 \u001b[0mseen_default\u001b[0m \u001b[1;33m=\u001b[0m \u001b[1;32mTrue\u001b[0m\u001b[1;33m\u001b[0m\u001b[1;33m\u001b[0m\u001b[0m\n\u001b[0;32m    501\u001b[0m             \u001b[1;32melif\u001b[0m \u001b[0mseen_default\u001b[0m\u001b[1;33m:\u001b[0m\u001b[1;33m\u001b[0m\u001b[1;33m\u001b[0m\u001b[0m\n\u001b[1;32m--> 502\u001b[1;33m                 raise TypeError(f'non-default argument {f.name!r} '\n\u001b[0m\u001b[0;32m    503\u001b[0m                                 'follows default argument')\n\u001b[0;32m    504\u001b[0m \u001b[1;33m\u001b[0m\u001b[0m\n",
      "\u001b[1;31mTypeError\u001b[0m: non-default argument 'a' follows default argument"
     ]
    }
   ],
   "source": [
    "from dataclasses import dataclass\n",
    "from typing import Optional\n",
    "\n",
    "class StandardMetaC:\n",
    "    def __init__(self, name):\n",
    "        self.name = name\n",
    "\n",
    "@dataclass\n",
    "class DataMetaC:\n",
    "    name: str\n",
    "  \n",
    "\n",
    "@dataclass\n",
    "class Cs(StandardMetaC):\n",
    "    a: float\n",
    "    b: float\n",
    "\n",
    "    def __post_init__(self):\n",
    "        super().__init__(\"C class\")\n",
    "\n",
    "\n",
    "@dataclass\n",
    "class Cd(DataMetaC):\n",
    "    a: float\n",
    "    b: float\n",
    "    name: Optional[str] = \"C class\"    \n",
    "    \n",
    "\n",
    "c1 = Cs(5, 6)\n",
    "print(c1.__dict__)\n",
    "\n",
    "c2 = Cd(5, 6)\n",
    "print(c2.__dict__)\n"
   ]
  },
  {
   "cell_type": "code",
   "execution_count": null,
   "metadata": {},
   "outputs": [],
   "source": [
    "# Add column to dataframe based on a query. True will be marked on rows that match the query\n",
    "import pandas\n",
    "\n",
    "df = pandas.DataFrame(\n",
    "    dict(name=list('AAABBCCCCDEEFGG'), title=list('zyxwvutrqponmlu')))\n",
    "\n",
    "df2 = df.query('name == \"A\" | title == \"u\"')\n",
    "df2[\"newcol\"] = True\n",
    "print(df2)\n",
    "\n",
    "df = df.merge(df2, how=\"left\").fillna({\"newcol\": False})\n",
    "print(df)"
   ]
  },
  {
   "cell_type": "markdown",
   "metadata": {},
   "source": [
    "# Networkx plotting"
   ]
  },
  {
   "cell_type": "code",
   "execution_count": null,
   "metadata": {},
   "outputs": [],
   "source": [
    "import numpy\n",
    "import networkx as nx\n",
    "import matplotlib.pyplot as plt\n",
    "\n",
    "\n",
    "N = 40 \n",
    "G = nx.grid_2d_graph(N,N)\n",
    "pos = dict((n, n) for n in G.nodes())\n",
    "nx.set_node_attributes(G, pos, 'coord')\n",
    "\n",
    "bottom_nodes = [x for x,y in G.nodes(data=True) if y['coord'][1] < 1]\n",
    "top_nodes = [x for x,y in G.nodes(data=True) if y['coord'][1] > N-2]\n",
    "\n",
    "\n",
    " \n",
    "\n",
    "edges = list(G.edges)\n",
    "weights = []\n",
    "\n",
    "for u,v in edges:\n",
    "    w = int(numpy.random.random() * 5)\n",
    "    if w < 2:\n",
    "        G.remove_edge(u,v)\n",
    "    else:\n",
    "        G[u][v]['weight'] = 5\n",
    "        weights.append(G[u][v]['weight'])\n",
    "    \n",
    "paths = []\n",
    "for source, sink in [(so, si) for si in top_nodes for so in bottom_nodes]:\n",
    "    try:\n",
    "        path = nx.shortest_path(G, source=source, target=sink, weight='weight')\n",
    "        path_edges = list(zip(path[:-1],path[1:]))\n",
    "        paths.append(path_edges)\n",
    "    except nx.NetworkXNoPath:\n",
    "        pass\n",
    "\n",
    "plt.figure(3,figsize=(12,12))\n",
    "nx.draw_networkx(G, pos=pos, width=weights, with_labels=False, node_size=0, edge_color='lightgray')\n",
    "nx.draw_networkx_nodes(G, pos=pos, nodelist=bottom_nodes, node_color='r', node_size=40)\n",
    "nx.draw_networkx_nodes(G, pos=pos, nodelist=top_nodes, node_color='g', node_size=40)\n",
    "for p in paths:\n",
    "    nx.draw_networkx_edges(G, pos=pos, edgelist=p, edge_color='b')"
   ]
  },
  {
   "cell_type": "markdown",
   "metadata": {},
   "source": [
    "# Unique lists"
   ]
  },
  {
   "cell_type": "code",
   "execution_count": 10,
   "metadata": {},
   "outputs": [
    {
     "name": "stdout",
     "output_type": "stream",
     "text": [
      "defaultdict(<class 'list'>, {})\n",
      "defaultdict(<class 'list'>, {'a': [0]})\n",
      "defaultdict(<class 'list'>, {'a': [0], 'b': [1]})\n",
      "defaultdict(<class 'list'>, {'a': [0], 'b': [1], 'c': [2]})\n",
      "defaultdict(<class 'list'>, {'a': [0], 'b': [1], 'c': [2], 'd': [3]})\n",
      "defaultdict(<class 'list'>, {'a': [0], 'b': [1], 'c': [2], 'd': [3], 'm': [4]})\n",
      "['a', 'b', 'c', 'd', 'm']\n"
     ]
    }
   ],
   "source": [
    "import collections\n",
    "\n",
    "original_list = [ \"a\", \"b\", \"c\", \"d\", \"m\" ]\n",
    "# result_list   = [ \"a_1\", \"b_1\", \"c\", \"d\", \"a_2\", \"b_2\", \"m\", \"b_3\"]\n",
    "result = original_list.copy()\n",
    "indices = collections.defaultdict(list)\n",
    "print(indices)\n",
    "\n",
    "if len(original_list) != len(indices.keys()):\n",
    "    for i,item in enumerate(original_list):\n",
    "        indices[item].append(i)\n",
    "    for k, v in indices.items():\n",
    "        if len(v) > 1:\n",
    "            for i, p in enumerate(v):\n",
    "                result[p] = f'{k}_{i+1}'\n",
    "\n",
    "print(result)\n",
    "\n"
   ]
  },
  {
   "cell_type": "code",
   "execution_count": null,
   "metadata": {},
   "outputs": [],
   "source": []
  }
 ],
 "metadata": {
  "kernelspec": {
   "display_name": "Python [conda env:py3_kerplunk]",
   "language": "python",
   "name": "conda-env-py3_kerplunk-py"
  },
  "language_info": {
   "codemirror_mode": {
    "name": "ipython",
    "version": 3
   },
   "file_extension": ".py",
   "mimetype": "text/x-python",
   "name": "python",
   "nbconvert_exporter": "python",
   "pygments_lexer": "ipython3",
   "version": "3.8.8"
  }
 },
 "nbformat": 4,
 "nbformat_minor": 1
}
