{
 "cells": [
  {
   "cell_type": "markdown",
   "metadata": {},
   "source": [
    "# Data Analysis using pandas\n",
    "\n",
    "[pandas](https://pandas.pydata.org/) is the most popular python library for data manipulation and analysis. It is especially tailored for working with time series data due to its development history in the finance industry.  \n",
    "\n",
    "[The pandas cookbook](https://pandas.pydata.org/pandas-docs/stable/user_guide/cookbook.html#cookbook) covers, in detail, the pandas API and working with its data structures. In this notebook we provide a preliminary introduction to the data structures in `pandas` and follow it up with some useful code snippets for accomplishing specific tasks. The tasks are not carefully constructed and were born mostly out of need while working on some project.\n",
    "\n",
    "\n",
    "## pandas datastructures\n",
    "Series is a one-dimensional labeled array capable of holding any data type (integers, strings, floating point numbers, Python objects, etc.). The axis labels are collectively referred to as the index. The basic method to create a Series is:"
   ]
  },
  {
   "cell_type": "code",
   "execution_count": 5,
   "metadata": {},
   "outputs": [],
   "source": [
    "# Import the library\n",
    "import pandas\n",
    "import numpy\n",
    "import numpy.random"
   ]
  },
  {
   "cell_type": "code",
   "execution_count": 7,
   "metadata": {},
   "outputs": [
    {
     "name": "stdout",
     "output_type": "stream",
     "text": [
      "0    0.213598\n",
      "1    0.249689\n",
      "2   -0.119241\n",
      "3    0.912390\n",
      "4   -1.188708\n",
      "dtype: float64\n"
     ]
    }
   ],
   "source": [
    "s = pandas.Series(numpy.random.randn(5))\n",
    "print(s)"
   ]
  },
  {
   "cell_type": "code",
   "execution_count": 8,
   "metadata": {},
   "outputs": [
    {
     "name": "stdout",
     "output_type": "stream",
     "text": [
      "a   -0.009337\n",
      "b   -0.158603\n",
      "c   -0.034975\n",
      "d   -0.002287\n",
      "e   -0.680423\n",
      "dtype: float64\n"
     ]
    }
   ],
   "source": [
    "s = pandas.Series(numpy.random.randn(5), index=['a', 'b', 'c', 'd', 'e'])\n",
    "print(s)"
   ]
  },
  {
   "cell_type": "code",
   "execution_count": 9,
   "metadata": {},
   "outputs": [
    {
     "data": {
      "text/plain": [
       "b    1\n",
       "a    0\n",
       "c    2\n",
       "dtype: int64"
      ]
     },
     "execution_count": 9,
     "metadata": {},
     "output_type": "execute_result"
    }
   ],
   "source": [
    "d = {'b': 1, 'a': 0, 'c': 2}\n",
    "pandas.Series(d)"
   ]
  },
  {
   "cell_type": "code",
   "execution_count": 10,
   "metadata": {},
   "outputs": [
    {
     "data": {
      "text/plain": [
       "a    5.0\n",
       "b    5.0\n",
       "c    5.0\n",
       "d    5.0\n",
       "e    5.0\n",
       "dtype: float64"
      ]
     },
     "execution_count": 10,
     "metadata": {},
     "output_type": "execute_result"
    }
   ],
   "source": [
    "pandas.Series(5., index=['a', 'b', 'c', 'd', 'e'])"
   ]
  },
  {
   "cell_type": "code",
   "execution_count": null,
   "metadata": {},
   "outputs": [],
   "source": [
    " s1 = pd.Series([1, 2, 3, 4, 5, 6], index=pd.date_range('20130102', periods=6))"
   ]
  },
  {
   "cell_type": "markdown",
   "metadata": {},
   "source": [
    "## Working with Series"
   ]
  },
  {
   "cell_type": "code",
   "execution_count": 11,
   "metadata": {},
   "outputs": [
    {
     "data": {
      "text/plain": [
       "-0.009336842693835836"
      ]
     },
     "execution_count": 11,
     "metadata": {},
     "output_type": "execute_result"
    }
   ],
   "source": [
    "s[0]"
   ]
  },
  {
   "cell_type": "code",
   "execution_count": 12,
   "metadata": {},
   "outputs": [
    {
     "data": {
      "text/plain": [
       "a   -0.009337\n",
       "d   -0.002287\n",
       "dtype: float64"
      ]
     },
     "execution_count": 12,
     "metadata": {},
     "output_type": "execute_result"
    }
   ],
   "source": [
    "s[s > s.median()]"
   ]
  },
  {
   "cell_type": "code",
   "execution_count": 13,
   "metadata": {},
   "outputs": [
    {
     "data": {
      "text/plain": [
       "a   -0.018674\n",
       "b   -0.317205\n",
       "c   -0.069949\n",
       "d   -0.004574\n",
       "e   -1.360847\n",
       "dtype: float64"
      ]
     },
     "execution_count": 13,
     "metadata": {},
     "output_type": "execute_result"
    }
   ],
   "source": [
    "s + s"
   ]
  },
  {
   "cell_type": "code",
   "execution_count": 14,
   "metadata": {},
   "outputs": [
    {
     "data": {
      "text/plain": [
       "a    0.990707\n",
       "b    0.853335\n",
       "c    0.965630\n",
       "d    0.997716\n",
       "e    0.506403\n",
       "dtype: float64"
      ]
     },
     "execution_count": 14,
     "metadata": {},
     "output_type": "execute_result"
    }
   ],
   "source": [
    "numpy.exp(s)"
   ]
  },
  {
   "cell_type": "markdown",
   "metadata": {},
   "source": [
    "## DataFrame\n",
    "The pandas DataFrame is a 2-dimensional labeled data structure with rows and columns of potentially different types. You can think of it like a spreadsheet or SQL table.\n",
    "\n",
    "Data frames can be created from \n",
    "* dict of 1D ndarrays, lists, dicts, or pandas.Series\n",
    "* 2-D numpy.ndarray\n",
    "* pandas.Series\n",
    "* Another pandas.DataFrame\n",
    "* From a CSV/Excel file or SQL table\n",
    "\n",
    "Along with the data, you can optionally pass index (row labels) and columns (column labels) arguments. Here are a few examples:"
   ]
  },
  {
   "cell_type": "code",
   "execution_count": 4,
   "metadata": {},
   "outputs": [
    {
     "data": {
      "text/html": [
       "<div>\n",
       "<style scoped>\n",
       "    .dataframe tbody tr th:only-of-type {\n",
       "        vertical-align: middle;\n",
       "    }\n",
       "\n",
       "    .dataframe tbody tr th {\n",
       "        vertical-align: top;\n",
       "    }\n",
       "\n",
       "    .dataframe thead th {\n",
       "        text-align: right;\n",
       "    }\n",
       "</style>\n",
       "<table border=\"1\" class=\"dataframe\">\n",
       "  <thead>\n",
       "    <tr style=\"text-align: right;\">\n",
       "      <th></th>\n",
       "      <th>A</th>\n",
       "      <th>B</th>\n",
       "    </tr>\n",
       "  </thead>\n",
       "  <tbody>\n",
       "    <tr>\n",
       "      <th>0</th>\n",
       "      <td>0.842068</td>\n",
       "      <td>1.887971</td>\n",
       "    </tr>\n",
       "    <tr>\n",
       "      <th>1</th>\n",
       "      <td>-0.902174</td>\n",
       "      <td>-0.303899</td>\n",
       "    </tr>\n",
       "    <tr>\n",
       "      <th>2</th>\n",
       "      <td>-0.002947</td>\n",
       "      <td>-0.171942</td>\n",
       "    </tr>\n",
       "    <tr>\n",
       "      <th>3</th>\n",
       "      <td>-2.575968</td>\n",
       "      <td>-2.234638</td>\n",
       "    </tr>\n",
       "    <tr>\n",
       "      <th>4</th>\n",
       "      <td>-0.070976</td>\n",
       "      <td>0.262921</td>\n",
       "    </tr>\n",
       "  </tbody>\n",
       "</table>\n",
       "</div>"
      ],
      "text/plain": [
       "          A         B\n",
       "0  0.842068  1.887971\n",
       "1 -0.902174 -0.303899\n",
       "2 -0.002947 -0.171942\n",
       "3 -2.575968 -2.234638\n",
       "4 -0.070976  0.262921"
      ]
     },
     "execution_count": 4,
     "metadata": {},
     "output_type": "execute_result"
    }
   ],
   "source": [
    "# From dict of arrays/lists\n",
    "df = pandas.DataFrame({'A': numpy.random.randn(5), 'B': numpy.random.randn(5)})\n",
    "\n",
    "# Display the first few rows of the DataFrame\n",
    "df.head()"
   ]
  },
  {
   "cell_type": "code",
   "execution_count": 16,
   "metadata": {},
   "outputs": [
    {
     "data": {
      "text/html": [
       "<div>\n",
       "<style scoped>\n",
       "    .dataframe tbody tr th:only-of-type {\n",
       "        vertical-align: middle;\n",
       "    }\n",
       "\n",
       "    .dataframe tbody tr th {\n",
       "        vertical-align: top;\n",
       "    }\n",
       "\n",
       "    .dataframe thead th {\n",
       "        text-align: right;\n",
       "    }\n",
       "</style>\n",
       "<table border=\"1\" class=\"dataframe\">\n",
       "  <thead>\n",
       "    <tr style=\"text-align: right;\">\n",
       "      <th></th>\n",
       "      <th>0</th>\n",
       "      <th>1</th>\n",
       "      <th>2</th>\n",
       "      <th>3</th>\n",
       "    </tr>\n",
       "  </thead>\n",
       "  <tbody>\n",
       "    <tr>\n",
       "      <th>0</th>\n",
       "      <td>-0.018406</td>\n",
       "      <td>1.293025</td>\n",
       "      <td>0.503725</td>\n",
       "      <td>0.139378</td>\n",
       "    </tr>\n",
       "    <tr>\n",
       "      <th>1</th>\n",
       "      <td>0.515348</td>\n",
       "      <td>1.231558</td>\n",
       "      <td>-1.309604</td>\n",
       "      <td>0.485417</td>\n",
       "    </tr>\n",
       "    <tr>\n",
       "      <th>2</th>\n",
       "      <td>-2.065539</td>\n",
       "      <td>-2.292078</td>\n",
       "      <td>-0.325685</td>\n",
       "      <td>-0.166607</td>\n",
       "    </tr>\n",
       "    <tr>\n",
       "      <th>3</th>\n",
       "      <td>-1.843063</td>\n",
       "      <td>-1.222840</td>\n",
       "      <td>0.714181</td>\n",
       "      <td>-1.594812</td>\n",
       "    </tr>\n",
       "    <tr>\n",
       "      <th>4</th>\n",
       "      <td>0.029611</td>\n",
       "      <td>0.572192</td>\n",
       "      <td>-1.482664</td>\n",
       "      <td>-0.715371</td>\n",
       "    </tr>\n",
       "  </tbody>\n",
       "</table>\n",
       "</div>"
      ],
      "text/plain": [
       "          0         1         2         3\n",
       "0 -0.018406  1.293025  0.503725  0.139378\n",
       "1  0.515348  1.231558 -1.309604  0.485417\n",
       "2 -2.065539 -2.292078 -0.325685 -0.166607\n",
       "3 -1.843063 -1.222840  0.714181 -1.594812\n",
       "4  0.029611  0.572192 -1.482664 -0.715371"
      ]
     },
     "execution_count": 16,
     "metadata": {},
     "output_type": "execute_result"
    }
   ],
   "source": [
    "# Explicity passing column labels\n",
    "# Columns and rows are indexed using integer labels\n",
    "df = pandas.DataFrame(numpy.random.randn(10, 4))\n",
    "df.head()"
   ]
  },
  {
   "cell_type": "code",
   "execution_count": 7,
   "metadata": {},
   "outputs": [
    {
     "data": {
      "text/html": [
       "<div>\n",
       "<style scoped>\n",
       "    .dataframe tbody tr th:only-of-type {\n",
       "        vertical-align: middle;\n",
       "    }\n",
       "\n",
       "    .dataframe tbody tr th {\n",
       "        vertical-align: top;\n",
       "    }\n",
       "\n",
       "    .dataframe thead th {\n",
       "        text-align: right;\n",
       "    }\n",
       "</style>\n",
       "<table border=\"1\" class=\"dataframe\">\n",
       "  <thead>\n",
       "    <tr style=\"text-align: right;\">\n",
       "      <th></th>\n",
       "      <th>A</th>\n",
       "      <th>B</th>\n",
       "      <th>C</th>\n",
       "      <th>D</th>\n",
       "    </tr>\n",
       "  </thead>\n",
       "  <tbody>\n",
       "    <tr>\n",
       "      <th>5</th>\n",
       "      <td>-0.228297</td>\n",
       "      <td>1.944910</td>\n",
       "      <td>-1.497527</td>\n",
       "      <td>-1.181247</td>\n",
       "    </tr>\n",
       "    <tr>\n",
       "      <th>6</th>\n",
       "      <td>-1.254132</td>\n",
       "      <td>0.584549</td>\n",
       "      <td>1.399073</td>\n",
       "      <td>-0.907340</td>\n",
       "    </tr>\n",
       "    <tr>\n",
       "      <th>7</th>\n",
       "      <td>1.658553</td>\n",
       "      <td>0.613674</td>\n",
       "      <td>1.891267</td>\n",
       "      <td>-1.450986</td>\n",
       "    </tr>\n",
       "    <tr>\n",
       "      <th>8</th>\n",
       "      <td>1.495915</td>\n",
       "      <td>0.479769</td>\n",
       "      <td>-1.786253</td>\n",
       "      <td>-1.664243</td>\n",
       "    </tr>\n",
       "    <tr>\n",
       "      <th>9</th>\n",
       "      <td>-2.034977</td>\n",
       "      <td>0.566940</td>\n",
       "      <td>0.402523</td>\n",
       "      <td>0.609117</td>\n",
       "    </tr>\n",
       "  </tbody>\n",
       "</table>\n",
       "</div>"
      ],
      "text/plain": [
       "          A         B         C         D\n",
       "5 -0.228297  1.944910 -1.497527 -1.181247\n",
       "6 -1.254132  0.584549  1.399073 -0.907340\n",
       "7  1.658553  0.613674  1.891267 -1.450986\n",
       "8  1.495915  0.479769 -1.786253 -1.664243\n",
       "9 -2.034977  0.566940  0.402523  0.609117"
      ]
     },
     "execution_count": 7,
     "metadata": {},
     "output_type": "execute_result"
    }
   ],
   "source": [
    "# Explicity passing column labels\n",
    "df = pandas.DataFrame(numpy.random.randn(10, 4), columns=['A', 'B', 'C', 'D'])\n",
    "\n",
    "# Display the last few rows of the DataFrame\n",
    "df.tail()"
   ]
  },
  {
   "cell_type": "code",
   "execution_count": 5,
   "metadata": {},
   "outputs": [
    {
     "data": {
      "text/html": [
       "<div>\n",
       "<style scoped>\n",
       "    .dataframe tbody tr th:only-of-type {\n",
       "        vertical-align: middle;\n",
       "    }\n",
       "\n",
       "    .dataframe tbody tr th {\n",
       "        vertical-align: top;\n",
       "    }\n",
       "\n",
       "    .dataframe thead th {\n",
       "        text-align: right;\n",
       "    }\n",
       "</style>\n",
       "<table border=\"1\" class=\"dataframe\">\n",
       "  <thead>\n",
       "    <tr style=\"text-align: right;\">\n",
       "      <th></th>\n",
       "      <th>Month</th>\n",
       "      <th>Date</th>\n",
       "      <th>Year</th>\n",
       "      <th>Max</th>\n",
       "      <th>Min</th>\n",
       "    </tr>\n",
       "  </thead>\n",
       "  <tbody>\n",
       "    <tr>\n",
       "      <th>0</th>\n",
       "      <td>1</td>\n",
       "      <td>1</td>\n",
       "      <td>1950</td>\n",
       "      <td>45</td>\n",
       "      <td>32</td>\n",
       "    </tr>\n",
       "    <tr>\n",
       "      <th>1</th>\n",
       "      <td>1</td>\n",
       "      <td>2</td>\n",
       "      <td>1950</td>\n",
       "      <td>55</td>\n",
       "      <td>37</td>\n",
       "    </tr>\n",
       "    <tr>\n",
       "      <th>2</th>\n",
       "      <td>1</td>\n",
       "      <td>3</td>\n",
       "      <td>1950</td>\n",
       "      <td>60</td>\n",
       "      <td>44</td>\n",
       "    </tr>\n",
       "    <tr>\n",
       "      <th>3</th>\n",
       "      <td>1</td>\n",
       "      <td>4</td>\n",
       "      <td>1950</td>\n",
       "      <td>68</td>\n",
       "      <td>57</td>\n",
       "    </tr>\n",
       "    <tr>\n",
       "      <th>4</th>\n",
       "      <td>1</td>\n",
       "      <td>5</td>\n",
       "      <td>1950</td>\n",
       "      <td>64</td>\n",
       "      <td>52</td>\n",
       "    </tr>\n",
       "  </tbody>\n",
       "</table>\n",
       "</div>"
      ],
      "text/plain": [
       "   Month  Date  Year  Max  Min\n",
       "0      1     1  1950   45   32\n",
       "1      1     2  1950   55   37\n",
       "2      1     3  1950   60   44\n",
       "3      1     4  1950   68   57\n",
       "4      1     5  1950   64   52"
      ]
     },
     "execution_count": 5,
     "metadata": {},
     "output_type": "execute_result"
    }
   ],
   "source": [
    "# From CSV/Excel files\n",
    "import pandas\n",
    "import os\n",
    "csv_file = os.path.abspath('./DataAnalysis/data/phl_temperature.txt')\n",
    "df = pandas.read_csv(csv_file, delim_whitespace=True)\n",
    "df.head()"
   ]
  },
  {
   "cell_type": "code",
   "execution_count": null,
   "metadata": {},
   "outputs": [],
   "source": []
  },
  {
   "cell_type": "markdown",
   "metadata": {},
   "source": [
    "## Indexing / selection\n",
    "The basics of indexing are as follows:\n",
    "\n",
    "| Operation                      | Syntax          | Result      |\n",
    "|--------------------------------|-----------------|-------------|\n",
    "| Select column                  | `df[col]`       | `Series`    |\n",
    "| Select row by label            | `df.loc[label]` | `Series`    |\n",
    "| Select row by integer location | `df.iloc[loc]`  | `Series`    |\n",
    "| Slice rows                     | `df[5:10]`      | `DataFrame` |\n",
    "| Select rows by boolean vector  | `df[bool_vec]`  | `DataFrame` |"
   ]
  },
  {
   "cell_type": "markdown",
   "metadata": {},
   "source": [
    "If a DataFrame column label is a valid Python variable name, the column can be accessed like an attribute:"
   ]
  },
  {
   "cell_type": "code",
   "execution_count": 1,
   "metadata": {},
   "outputs": [
    {
     "ename": "NameError",
     "evalue": "name 'pandas' is not defined",
     "output_type": "error",
     "traceback": [
      "\u001b[1;31m---------------------------------------------------------------------------\u001b[0m",
      "\u001b[1;31mNameError\u001b[0m                                 Traceback (most recent call last)",
      "\u001b[1;32m<ipython-input-1-0030d3fb8b9d>\u001b[0m in \u001b[0;36m<module>\u001b[1;34m\u001b[0m\n\u001b[1;32m----> 1\u001b[1;33m \u001b[0mdf\u001b[0m \u001b[1;33m=\u001b[0m \u001b[0mpandas\u001b[0m\u001b[1;33m.\u001b[0m\u001b[0mDataFrame\u001b[0m\u001b[1;33m(\u001b[0m\u001b[0mnumpy\u001b[0m\u001b[1;33m.\u001b[0m\u001b[0mrandom\u001b[0m\u001b[1;33m.\u001b[0m\u001b[0mrandn\u001b[0m\u001b[1;33m(\u001b[0m\u001b[1;36m10\u001b[0m\u001b[1;33m,\u001b[0m \u001b[1;36m2\u001b[0m\u001b[1;33m)\u001b[0m\u001b[1;33m,\u001b[0m \u001b[0mcolumns\u001b[0m\u001b[1;33m=\u001b[0m\u001b[1;33m[\u001b[0m\u001b[1;34m'foo1'\u001b[0m\u001b[1;33m,\u001b[0m \u001b[1;34m'foo2'\u001b[0m\u001b[1;33m]\u001b[0m\u001b[1;33m)\u001b[0m\u001b[1;33m\u001b[0m\u001b[1;33m\u001b[0m\u001b[0m\n\u001b[0m\u001b[0;32m      2\u001b[0m \u001b[0mdf\u001b[0m\u001b[1;33m.\u001b[0m\u001b[0mfoo1\u001b[0m\u001b[1;33m\u001b[0m\u001b[1;33m\u001b[0m\u001b[0m\n",
      "\u001b[1;31mNameError\u001b[0m: name 'pandas' is not defined"
     ]
    }
   ],
   "source": [
    "df = pandas.DataFrame(numpy.random.randn(10, 2), columns=['foo1', 'foo2'])\n",
    "df.foo1"
   ]
  },
  {
   "cell_type": "markdown",
   "metadata": {},
   "source": [
    "## Transposing"
   ]
  },
  {
   "cell_type": "code",
   "execution_count": 18,
   "metadata": {},
   "outputs": [
    {
     "data": {
      "text/html": [
       "<div>\n",
       "<style scoped>\n",
       "    .dataframe tbody tr th:only-of-type {\n",
       "        vertical-align: middle;\n",
       "    }\n",
       "\n",
       "    .dataframe tbody tr th {\n",
       "        vertical-align: top;\n",
       "    }\n",
       "\n",
       "    .dataframe thead th {\n",
       "        text-align: right;\n",
       "    }\n",
       "</style>\n",
       "<table border=\"1\" class=\"dataframe\">\n",
       "  <thead>\n",
       "    <tr style=\"text-align: right;\">\n",
       "      <th></th>\n",
       "      <th>0</th>\n",
       "      <th>1</th>\n",
       "      <th>2</th>\n",
       "      <th>3</th>\n",
       "      <th>4</th>\n",
       "      <th>5</th>\n",
       "      <th>6</th>\n",
       "      <th>7</th>\n",
       "      <th>8</th>\n",
       "      <th>9</th>\n",
       "    </tr>\n",
       "  </thead>\n",
       "  <tbody>\n",
       "    <tr>\n",
       "      <th>0</th>\n",
       "      <td>-0.018406</td>\n",
       "      <td>0.515348</td>\n",
       "      <td>-2.065539</td>\n",
       "      <td>-1.843063</td>\n",
       "      <td>0.029611</td>\n",
       "      <td>1.125723</td>\n",
       "      <td>1.899478</td>\n",
       "      <td>-1.456191</td>\n",
       "      <td>0.567275</td>\n",
       "      <td>0.036702</td>\n",
       "    </tr>\n",
       "    <tr>\n",
       "      <th>1</th>\n",
       "      <td>1.293025</td>\n",
       "      <td>1.231558</td>\n",
       "      <td>-2.292078</td>\n",
       "      <td>-1.222840</td>\n",
       "      <td>0.572192</td>\n",
       "      <td>0.134943</td>\n",
       "      <td>2.506781</td>\n",
       "      <td>1.703568</td>\n",
       "      <td>1.145430</td>\n",
       "      <td>1.300271</td>\n",
       "    </tr>\n",
       "    <tr>\n",
       "      <th>2</th>\n",
       "      <td>0.503725</td>\n",
       "      <td>-1.309604</td>\n",
       "      <td>-0.325685</td>\n",
       "      <td>0.714181</td>\n",
       "      <td>-1.482664</td>\n",
       "      <td>-1.376314</td>\n",
       "      <td>1.080011</td>\n",
       "      <td>-0.194997</td>\n",
       "      <td>-0.010458</td>\n",
       "      <td>1.331428</td>\n",
       "    </tr>\n",
       "    <tr>\n",
       "      <th>3</th>\n",
       "      <td>0.139378</td>\n",
       "      <td>0.485417</td>\n",
       "      <td>-0.166607</td>\n",
       "      <td>-1.594812</td>\n",
       "      <td>-0.715371</td>\n",
       "      <td>-1.690071</td>\n",
       "      <td>-0.327998</td>\n",
       "      <td>0.330466</td>\n",
       "      <td>2.316249</td>\n",
       "      <td>1.107672</td>\n",
       "    </tr>\n",
       "  </tbody>\n",
       "</table>\n",
       "</div>"
      ],
      "text/plain": [
       "          0         1         2         3         4         5         6  \\\n",
       "0 -0.018406  0.515348 -2.065539 -1.843063  0.029611  1.125723  1.899478   \n",
       "1  1.293025  1.231558 -2.292078 -1.222840  0.572192  0.134943  2.506781   \n",
       "2  0.503725 -1.309604 -0.325685  0.714181 -1.482664 -1.376314  1.080011   \n",
       "3  0.139378  0.485417 -0.166607 -1.594812 -0.715371 -1.690071 -0.327998   \n",
       "\n",
       "          7         8         9  \n",
       "0 -1.456191  0.567275  0.036702  \n",
       "1  1.703568  1.145430  1.300271  \n",
       "2 -0.194997 -0.010458  1.331428  \n",
       "3  0.330466  2.316249  1.107672  "
      ]
     },
     "metadata": {},
     "output_type": "display_data"
    }
   ],
   "source": [
    "df_t = df.T\n",
    "display(df_t)"
   ]
  },
  {
   "cell_type": "markdown",
   "metadata": {},
   "source": [
    "## Data alignment and arithmetic"
   ]
  },
  {
   "cell_type": "code",
   "execution_count": 19,
   "metadata": {
    "scrolled": true
   },
   "outputs": [
    {
     "data": {
      "text/html": [
       "<div>\n",
       "<style scoped>\n",
       "    .dataframe tbody tr th:only-of-type {\n",
       "        vertical-align: middle;\n",
       "    }\n",
       "\n",
       "    .dataframe tbody tr th {\n",
       "        vertical-align: top;\n",
       "    }\n",
       "\n",
       "    .dataframe thead th {\n",
       "        text-align: right;\n",
       "    }\n",
       "</style>\n",
       "<table border=\"1\" class=\"dataframe\">\n",
       "  <thead>\n",
       "    <tr style=\"text-align: right;\">\n",
       "      <th></th>\n",
       "      <th>A</th>\n",
       "      <th>B</th>\n",
       "      <th>C</th>\n",
       "      <th>D</th>\n",
       "    </tr>\n",
       "  </thead>\n",
       "  <tbody>\n",
       "    <tr>\n",
       "      <th>0</th>\n",
       "      <td>-0.979961</td>\n",
       "      <td>-0.494745</td>\n",
       "      <td>-0.690338</td>\n",
       "      <td>NaN</td>\n",
       "    </tr>\n",
       "    <tr>\n",
       "      <th>1</th>\n",
       "      <td>-1.478323</td>\n",
       "      <td>-0.131388</td>\n",
       "      <td>-0.625910</td>\n",
       "      <td>NaN</td>\n",
       "    </tr>\n",
       "    <tr>\n",
       "      <th>2</th>\n",
       "      <td>-1.621395</td>\n",
       "      <td>-2.687233</td>\n",
       "      <td>1.572316</td>\n",
       "      <td>NaN</td>\n",
       "    </tr>\n",
       "    <tr>\n",
       "      <th>3</th>\n",
       "      <td>-0.281079</td>\n",
       "      <td>1.805794</td>\n",
       "      <td>-1.469501</td>\n",
       "      <td>NaN</td>\n",
       "    </tr>\n",
       "    <tr>\n",
       "      <th>4</th>\n",
       "      <td>0.327918</td>\n",
       "      <td>-0.718512</td>\n",
       "      <td>-1.625370</td>\n",
       "      <td>NaN</td>\n",
       "    </tr>\n",
       "    <tr>\n",
       "      <th>5</th>\n",
       "      <td>1.003990</td>\n",
       "      <td>-0.745661</td>\n",
       "      <td>0.302221</td>\n",
       "      <td>NaN</td>\n",
       "    </tr>\n",
       "    <tr>\n",
       "      <th>6</th>\n",
       "      <td>1.027004</td>\n",
       "      <td>-0.729990</td>\n",
       "      <td>1.635750</td>\n",
       "      <td>NaN</td>\n",
       "    </tr>\n",
       "    <tr>\n",
       "      <th>7</th>\n",
       "      <td>NaN</td>\n",
       "      <td>NaN</td>\n",
       "      <td>NaN</td>\n",
       "      <td>NaN</td>\n",
       "    </tr>\n",
       "    <tr>\n",
       "      <th>8</th>\n",
       "      <td>NaN</td>\n",
       "      <td>NaN</td>\n",
       "      <td>NaN</td>\n",
       "      <td>NaN</td>\n",
       "    </tr>\n",
       "    <tr>\n",
       "      <th>9</th>\n",
       "      <td>NaN</td>\n",
       "      <td>NaN</td>\n",
       "      <td>NaN</td>\n",
       "      <td>NaN</td>\n",
       "    </tr>\n",
       "  </tbody>\n",
       "</table>\n",
       "</div>"
      ],
      "text/plain": [
       "          A         B         C   D\n",
       "0 -0.979961 -0.494745 -0.690338 NaN\n",
       "1 -1.478323 -0.131388 -0.625910 NaN\n",
       "2 -1.621395 -2.687233  1.572316 NaN\n",
       "3 -0.281079  1.805794 -1.469501 NaN\n",
       "4  0.327918 -0.718512 -1.625370 NaN\n",
       "5  1.003990 -0.745661  0.302221 NaN\n",
       "6  1.027004 -0.729990  1.635750 NaN\n",
       "7       NaN       NaN       NaN NaN\n",
       "8       NaN       NaN       NaN NaN\n",
       "9       NaN       NaN       NaN NaN"
      ]
     },
     "execution_count": 19,
     "metadata": {},
     "output_type": "execute_result"
    }
   ],
   "source": [
    "df = pandas.DataFrame(numpy.random.randn(10, 4), columns=['A', 'B', 'C', 'D'])\n",
    "df2 = pandas.DataFrame(numpy.random.randn(7, 3), columns=['A', 'B', 'C'])\n",
    "df + df2"
   ]
  },
  {
   "cell_type": "markdown",
   "metadata": {},
   "source": [
    "# Useful `pandas` snippets"
   ]
  },
  {
   "cell_type": "markdown",
   "metadata": {},
   "source": [
    "## Writing a dataframe into excel as a table"
   ]
  },
  {
   "cell_type": "code",
   "execution_count": null,
   "metadata": {},
   "outputs": [],
   "source": [
    "import pandas\n",
    "import xlsxwriter\n",
    "\n",
    "data = pandas.DataFrame({'a':[1,2,3,4,5], 'b':[2,3,4,5,6], 'c':[3,4,5,6,7]})\n",
    "workbook = xlsxwriter.Workbook(\"test1.xlsx\")\n",
    "worksheet = workbook.add_worksheet(\"testworksheet\")\n",
    "columns = [{'header': x} for x in data.columns ]\n",
    "origin = (2,1)\n",
    "worksheet.add_table( origin[0], origin[1], origin[0]+len(data)-1, origin[1]+len(data.columns)-1, \n",
    "                    {'data': data.values.tolist(),'header_row': True, 'columns': columns})\n",
    "\n",
    "workbook.close()"
   ]
  },
  {
   "cell_type": "markdown",
   "metadata": {},
   "source": [
    "## Add a column based on a grouped rule\n",
    "\n",
    "In this example we are given a dataframe with 4 columns titled `A, B, C, D`. We want to create a new column according to the following rules\n",
    "a) minimum odd value in column A for rows where column A is odd\n",
    "b) minimum even value in column A for rows where column A is even\n",
    "\n",
    "Some practical situations where this can occur - if you have a list of events where you want to find out the first time a particular type of event occurred."
   ]
  },
  {
   "cell_type": "code",
   "execution_count": null,
   "metadata": {},
   "outputs": [],
   "source": [
    "import numpy\n",
    "import pandas\n",
    "\n",
    "# Generate some random data in a dataframe\n",
    "df = pandas.DataFrame(numpy.random.randint(0,100,size=(15, 4)), \n",
    "                      columns=['A','B','C','D'])\n",
    "\n",
    "\n",
    "# Lambda function for checking if a number is even or odd\n",
    "even = lambda x: 1 if x%2==0 else 0\n",
    "odd = lambda x: 0 if x%2==0 else 1\n",
    "\n",
    "# Get even and odd numbers from a list\n",
    "even_nos = lambda l: list(filter(even, l))\n",
    "odd_nos = lambda l: list(filter(odd, l))\n",
    "\n",
    "# Create a column that will be 1 if A is odd 0 if A is even\n",
    "df['oddA'] = df['A'].transform(odd)\n",
    "\n",
    "# Create a grouped data object\n",
    "# Note that we are grouping by the column 'oddA'\n",
    "# sub_df contains only column A\n",
    "sub_df = df.groupby('oddA')\n",
    "\n",
    "def print_df_groupby(grouped_df):\n",
    "    \"\"\"Print the dataframe groups\n",
    "    \n",
    "    Parameters\n",
    "    ----------\n",
    "    grouped_df : pandas.DataFrameGroupBy\n",
    "        Grouped dataframe object\n",
    "    \"\"\"\n",
    "    for key, item in grouped_df:\n",
    "        print(grouped_df.get_group(key), \"\\n\\n\")\n",
    "\n",
    "\n",
    "print('Dataframe groups')\n",
    "print('----------------\\n')\n",
    "print_df_groupby(sub_df)"
   ]
  },
  {
   "cell_type": "code",
   "execution_count": null,
   "metadata": {},
   "outputs": [],
   "source": [
    "# Apply a transform using the \n",
    "df['minA'] = sub_df['A'].transform(min)\n",
    "\n",
    "print('Minimum even number in A : {}'.format(min(even_nos(df['A']))))\n",
    "print('Minimum odd  number in A : {}'.format(min(odd_nos(df['A']))))\n",
    "print('\\n')\n",
    "print(df)"
   ]
  }
 ],
 "metadata": {
  "kernelspec": {
   "display_name": "Python 3.7.1 64-bit ('py3': conda)",
   "language": "python",
   "name": "python37164bitpy3conda7669869c553c4c969ac74ecda1fceb2f"
  },
  "language_info": {
   "codemirror_mode": {
    "name": "ipython",
    "version": 3
   },
   "file_extension": ".py",
   "mimetype": "text/x-python",
   "name": "python",
   "nbconvert_exporter": "python",
   "pygments_lexer": "ipython3",
   "version": "3.8.1"
  }
 },
 "nbformat": 4,
 "nbformat_minor": 4
}
