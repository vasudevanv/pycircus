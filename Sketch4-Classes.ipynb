{
 "cells": [
  {
   "cell_type": "markdown",
   "metadata": {},
   "source": [
    "# Classes\n",
    "\n",
    "In this sketch we will introduce a new programming paradigm, Object Oriented Programming or OOP, that is based on the idea of collecting data and associated functions that into a single \"class\". A class can be thought of as a user-defined template or blueprint for creating variables that are referred to as instances of that class or ``objects``.\n",
    "\n",
    "The variables that store data within a class instance are called ``attributes`` and the functions that operate on ``attributes`` are called ``methods``. Let us create an example class."
   ]
  },
  {
   "cell_type": "code",
   "execution_count": 2,
   "metadata": {
    "collapsed": true
   },
   "outputs": [],
   "source": [
    "import numpy\n",
    "import numpy.linalg\n",
    "\n",
    "class Circle:\n",
    "    \"\"\"Class to represent a Circle\n",
    "    \n",
    "    The __init__ method may be documented in either the class level\n",
    "    docstring, or as a docstring on the __init__ method itself.\n",
    "\n",
    "    Either form is acceptable, but the two should not be mixed. Choose one\n",
    "    convention to document the __init__ method and be consistent with it.\n",
    "\n",
    "    Attributes\n",
    "    ----------\n",
    "    r : float\n",
    "        radius of the circle\n",
    "    x : numpy.ndarray or list or tuple\n",
    "        (x,y) coordinates of the centre of the circle\n",
    "  \n",
    "    \"\"\"\n",
    "   \n",
    "    def __init__(self, radius, centre):\n",
    "        \"\"\"Initialize an Circle in 2D object\n",
    "    \n",
    "        The __init__ method may be documented in either the class level\n",
    "        docstring, or as a docstring on the __init__ method itself.\n",
    "\n",
    "        Either form is acceptable, but the two should not be mixed. Choose one\n",
    "        convention to document the __init__ method and be consistent with it.\n",
    "\n",
    "        Parameters\n",
    "        ----------\n",
    "        radius : float\n",
    "            radius of the circle\n",
    "        centre : numpy.ndarray or list or tuple\n",
    "            (x,y) coordinates of the centre of the circle\n",
    " \n",
    "        Note\n",
    "        ----\n",
    "        Do not include the `self` parameter in the ``Parameters`` section.\n",
    "\n",
    "        \"\"\"\n",
    "        assert radius > 0, \"Radius has to be a positive number\"\n",
    "        self.r = radius\n",
    "        self.x = numpy.array(centre)\n",
    "        \n",
    "        \n",
    "    def circumference(self):\n",
    "        \"\"\"Circumference of the circle\n",
    "        \n",
    "        Returns\n",
    "        -------\n",
    "        float\n",
    "            circumference of the circle\n",
    "        \n",
    "        \"\"\"\n",
    "        return 2.0 * numpy.pi * self.r\n",
    "        \n",
    "    def area(self):\n",
    "        \"\"\"Area of the circle\n",
    "        \n",
    "        Returns\n",
    "        -------\n",
    "        float\n",
    "            Area of the circle\n",
    "        \n",
    "        \"\"\"\n",
    "        return numpy.pi * self.r ** 2\n",
    "    \n",
    "    def point_inside(self, p):\n",
    "        \"\"\"Check to see if point is inside the circle\n",
    "        \n",
    "        Parameters\n",
    "        ----------\n",
    "        p : numpy.ndarray or list or tuple\n",
    "            Coordinates of the point of interest\n",
    "            \n",
    "        Returns\n",
    "        -------\n",
    "        bool\n",
    "            True if point is inside the circle else False\n",
    "            \n",
    "        \"\"\"\n",
    "        if numpy.linalg.norm(p-self.x) < self.r:\n",
    "            return True\n",
    "        else:\n",
    "            return False"
   ]
  },
  {
   "cell_type": "markdown",
   "metadata": {},
   "source": [
    "The class Circle line does not create a new object. It merely outlines the blueprint for an object of type Circle. To now create an object using this definition, we call the class name almost as if it were a function: \n"
   ]
  },
  {
   "cell_type": "code",
   "execution_count": 3,
   "metadata": {},
   "outputs": [],
   "source": [
    "c1 = Circle(2, (0,0))"
   ]
  },
  {
   "cell_type": "markdown",
   "metadata": {},
   "source": [
    "The above statement creates an instance of class ``Circle`` and assigns it to an object ``c1``. This is done by calling the special method ``__init__``  with the proper number of arguments. After the ``__init__`` function has been called, the object is ready to use. Notice that the ``__init__`` function has 3 arguments, but we passed only the radius and the center. The first argument ``self`` is a special argument that is the first parameter to all of the methods of the class ``Circle``. It refers to the current instance of the class. This is how the methods in the class act on the attributes of a given instance."
   ]
  },
  {
   "cell_type": "code",
   "execution_count": 4,
   "metadata": {},
   "outputs": [
    {
     "name": "stdout",
     "output_type": "stream",
     "text": [
      "12.566370614359172\n",
      "12.566370614359172\n"
     ]
    },
    {
     "data": {
      "text/plain": [
       "True"
      ]
     },
     "execution_count": 4,
     "metadata": {},
     "output_type": "execute_result"
    }
   ],
   "source": [
    "print(c1.circumference())\n",
    "print(c1.area())\n",
    "c1.point_inside((1,1))"
   ]
  },
  {
   "cell_type": "markdown",
   "metadata": {},
   "source": [
    "Note that a rule of thumb is that no attributes are introduced outside of the __init__ method, otherwise you've given the caller an object that isn't fully initialized. There are exceptions, of course, but it's a good principle to keep in mind. "
   ]
  },
  {
   "cell_type": "markdown",
   "metadata": {},
   "source": [
    "## Inheritance\n",
    "\n",
    "A very powerful and important concept in OOP is Inherticance. It is the process by which one can create new \"child\" class that derive or \"inherit\" the data and behavior of a \"parent\" class. Let us consider an example. "
   ]
  },
  {
   "cell_type": "code",
   "execution_count": null,
   "metadata": {
    "collapsed": true
   },
   "outputs": [],
   "source": [
    "class RegularPolygon:\n",
    "    \"\"\"A Regular Polygon\n",
    "    \n",
    "    Class to represent a regular polygon object\n",
    "    \n",
    "    Attributes\n",
    "    ----------\n",
    "    n : int\n",
    "        Number of sides in the polygon\n",
    "        \n",
    "    l : float\n",
    "        Length of each side of the polygon\n",
    "        \n",
    "        \n",
    "    \"\"\"\n",
    "    def __init__(self, no_of_sides, length=0):\n",
    "        \"\"\"Initialize a RegularPolygon object\n",
    "    \n",
    "        Parameters\n",
    "        ----------\n",
    "        no_of_sides : int\n",
    "            Number of sides in the polygon\n",
    "        \n",
    "        length : float\n",
    "            Length of each side of the polygon\n",
    "                \n",
    "        \"\"\"\n",
    "        self.n = no_of_sides\n",
    "        self.l = length\n",
    "        \n",
    "    def set_length(self, l=None):\n",
    "        \"\"\"Set the length of the side of the polygon\n",
    "        \n",
    "        Parameters\n",
    "        ----------\n",
    "        l : Float or None\n",
    "            Length of the side of the polygon\n",
    "        \n",
    "        \"\"\"\n",
    "        if not l:\n",
    "            self.l = float(input(\"Enter length : \"))\n",
    "        else:\n",
    "            self.l = l\n",
    "        \n",
    "    def internal_angle(self):\n",
    "        \"\"\"Internal angle of the polygon\n",
    "        \n",
    "        Returns\n",
    "        -------\n",
    "        float\n",
    "            Internal angle of the polygon in radian units\n",
    "            \n",
    "        \"\"\"\n",
    "        return numpy.pi*(self.n-2)/self.n\n",
    "\n",
    "class EquilateralTriangle(RegularPolygon):\n",
    "    \"\"\"An Equilateral Triangle\"\"\"\n",
    "    def __init__(self,length=0):\n",
    "        RegularPolygon.__init__(self,3,length)\n",
    "\n",
    "    def area(self):\n",
    "        \"\"\"Calculate the area of the triangle\"\"\"\n",
    "        s = 3*self.l/2\n",
    "        area = numpy.sqrt((s*(s-self.l)**3))\n",
    "        return area\n",
    "    \n",
    "class Square(RegularPolygon):\n",
    "    \"\"\"A Square\"\"\"\n",
    "    def __init__(self,length=0):\n",
    "        Polygon.__init__(self,3,length)\n",
    "\n",
    "    def area(self):\n",
    "        \"\"\"Calculate the area of the square\"\"\"\n",
    "        return self.l**2"
   ]
  },
  {
   "cell_type": "markdown",
   "metadata": {},
   "source": [
    "The class RegularPolygon represents a generic regular polygon that is defined by the number of sides it has and the length of each side. An EquilateralTriangle is a polygon with 3 sides. So, we can created a class called Triangle which inherits from Polygon. This makes all the attributes of  the class Polygon available in Triangle. We don't need to define them again. "
   ]
  },
  {
   "cell_type": "markdown",
   "metadata": {},
   "source": [
    "Two built-in functions ``isinstance()`` and ``issubclass()`` are used to check inheritances. The function ``isinstance()`` returns ``True`` if the object is an instance of the class or other classes derived from it. "
   ]
  },
  {
   "cell_type": "code",
   "execution_count": null,
   "metadata": {},
   "outputs": [],
   "source": [
    "t1 = EquilateralTriangle()\n",
    "isinstance(t1,EquilateralTriangle)"
   ]
  },
  {
   "cell_type": "code",
   "execution_count": null,
   "metadata": {
    "collapsed": true
   },
   "outputs": [],
   "source": [
    "isinstance(t,Polygon)"
   ]
  },
  {
   "cell_type": "markdown",
   "metadata": {},
   "source": [
    "Note that each and every class in Python inherits from the base class ``object``."
   ]
  },
  {
   "cell_type": "code",
   "execution_count": null,
   "metadata": {
    "collapsed": true
   },
   "outputs": [],
   "source": [
    " isinstance(t,object)"
   ]
  },
  {
   "cell_type": "markdown",
   "metadata": {},
   "source": [
    "This allows us to do something like this"
   ]
  },
  {
   "cell_type": "code",
   "execution_count": null,
   "metadata": {},
   "outputs": [],
   "source": [
    "class TemplateClass:\n",
    "    pass\n",
    "\n",
    "dir(TemplateClass)"
   ]
  },
  {
   "cell_type": "markdown",
   "metadata": {},
   "source": [
    "Notice that we have created an empty class, but python by default has added a bunch of attributes and methods. These are the attributes and methods associated with the base class ``object``. Sometimes this is useful to group variables."
   ]
  },
  {
   "cell_type": "code",
   "execution_count": null,
   "metadata": {},
   "outputs": [],
   "source": [
    "b = TemplateClass()\n",
    "b.name = 'Sumanth'\n",
    "b.job = 'Mathematician'\n",
    "print((b.name,b.job))"
   ]
  },
  {
   "cell_type": "code",
   "execution_count": null,
   "metadata": {},
   "outputs": [],
   "source": [
    "c = TemplateClass()\n",
    "c.team = 'New England Patriots'\n",
    "c.quarterback = 'Tom Brady'\n",
    "print(b.team)"
   ]
  },
  {
   "cell_type": "code",
   "execution_count": null,
   "metadata": {},
   "outputs": [],
   "source": [
    "print(c.team)"
   ]
  }
 ],
 "metadata": {
  "kernelspec": {
   "display_name": "Python 3",
   "language": "python",
   "name": "python3"
  },
  "language_info": {
   "codemirror_mode": {
    "name": "ipython",
    "version": 3
   },
   "file_extension": ".py",
   "mimetype": "text/x-python",
   "name": "python",
   "nbconvert_exporter": "python",
   "pygments_lexer": "ipython3",
   "version": "3.7.1"
  }
 },
 "nbformat": 4,
 "nbformat_minor": 1
}
