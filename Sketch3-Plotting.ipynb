{
 "cells": [
  {
   "cell_type": "markdown",
   "metadata": {},
   "source": [
    "# matplotlib - Python's plotting library"
   ]
  },
  {
   "cell_type": "code",
   "execution_count": null,
   "metadata": {},
   "outputs": [],
   "source": [
    "# This line configures matplotlib to show figures embedded in the notebook\n",
    "%matplotlib inline"
   ]
  },
  {
   "cell_type": "markdown",
   "metadata": {},
   "source": [
    "## Introduction"
   ]
  },
  {
   "cell_type": "markdown",
   "metadata": {},
   "source": [
    "[Matplotlib](http://matplotlib.org/) is an excellent graphics library for generating high quality scientific figures. The major advantage in matplotlib is that its easy to get started, very precise control over various aspects of the figure such as size, line colors, axes labels etc. It also has support for $\\LaTeX$ text and many output formats including PNG, PDF and SVG. The main inputs to matplotlib are numpy arrays that hold the data that needs to be plotted. The plots are generated using python code which makes for easy reproduction of figures and maintaining consistent appearances across figures."
   ]
  },
  {
   "cell_type": "markdown",
   "metadata": {},
   "source": [
    "To get started using Matplotlib, we import the main plotting module `matplotlib.pyplot` as `plt`"
   ]
  },
  {
   "cell_type": "code",
   "execution_count": null,
   "metadata": {},
   "outputs": [],
   "source": [
    "import numpy as np\n",
    "import matplotlib.pyplot as plt"
   ]
  },
  {
   "cell_type": "markdown",
   "metadata": {},
   "source": [
    "Matplotlib works very similar to MATLAB. We first create a figure handle stored in the `fig` variable. We create a new axis `ax1` using the `add_axes` method in the `Figure` class. Matplotlib allows the figure size to be specified when the `Figure` object is created, using the keyword argument `figsize` which is a tuple (width,height) in inches. We can also specify the resolution using the `dpi` keyword argument (dots per inch). The following example creates a 4 in x 3 in figure at 300 dpi resolution. We then need to add an axes to this figure which is done using the `add_axes` method of the `Figure` class."
   ]
  },
  {
   "cell_type": "code",
   "execution_count": null,
   "metadata": {},
   "outputs": [],
   "source": [
    "fig = plt.figure(figsize=(4,3), dpi=300)\n",
    "\n",
    "# left, bottom, width, height (range 0 to 1)\n",
    "ax1 = fig.add_axes([0.1, 0.1, 0.8, 0.8]) "
   ]
  },
  {
   "cell_type": "markdown",
   "metadata": {},
   "source": [
    "Now we can add line plots using the `plot` method. "
   ]
  },
  {
   "cell_type": "code",
   "execution_count": null,
   "metadata": {},
   "outputs": [],
   "source": [
    "fig = plt.figure(figsize=(4,3), dpi=300)\n",
    "\n",
    "# left, bottom, width, height (range 0 to 1)\n",
    "ax1 = fig.add_axes([0.1, 0.1, 0.8, 0.8]) \n",
    "\n",
    "# Generate fake data\n",
    "x = np.linspace(0,2*np.pi,100)\n",
    "y1 = np.sin(x)\n",
    "y2 = np.cos(x)\n",
    "\n",
    "# Plot \n",
    "ax1.plot(x, y1)\n",
    "ax1.plot(x, y2)"
   ]
  },
  {
   "cell_type": "markdown",
   "metadata": {},
   "source": [
    "## Labels and titles\n",
    "\n",
    "Now that we have covered the basics of how to create a figure canvas and add axes instances to the canvas, let's look at how decorate a figure with axis labels and a figure title.\n",
    "\n",
    "**Figure titles**\n",
    "\n",
    "A title can be added to each axis instance in a figure. To set the title, use the `set_title` method in the axes instance:\n",
    "\n",
    "**Axis labels**\n",
    "\n",
    "Similarly, with the methods `set_xlabel` and `set_ylabel`, we can set the labels of the X and Y axes:"
   ]
  },
  {
   "cell_type": "code",
   "execution_count": null,
   "metadata": {},
   "outputs": [],
   "source": [
    "fig = plt.figure(figsize=(4,3), dpi=300)\n",
    "\n",
    "# left, bottom, width, height (range 0 to 1)\n",
    "ax1 = fig.add_axes([0.1, 0.1, 0.8, 0.8]) \n",
    "\n",
    "# Generate fake data\n",
    "x = np.linspace(0,2*np.pi,100)\n",
    "y1 = np.sin(x)\n",
    "y2 = np.cos(x)\n",
    "\n",
    "# Plot \n",
    "ax1.plot(x, y1)\n",
    "ax1.plot(x, y2)\n",
    "\n",
    "# Set axis labels\n",
    "ax1.set_xlabel('x')\n",
    "ax1.set_ylabel('y = f(x)')\n",
    "ax1.set_title('Trigonometric functions');"
   ]
  },
  {
   "cell_type": "markdown",
   "metadata": {},
   "source": [
    "### Legends\n",
    "A legend for the plot can be added by using the `legend` method. This method takes the `label` keyword argument from our plot command and constructs a legend. The `legend` function takes an optional keyword argument `loc` that can be used to specify where in the figure the legend is to be drawn. The allowed values of `loc` are:\n",
    "\n",
    "|location       |code|\n",
    "|---------------|----|\n",
    "|'upper right'  | 1  |\n",
    "|'upper left'   | 2  |\n",
    "|'lower left'   | 3  |\n",
    "|'lower right'  | 4  |\n",
    "|'right'        | 5  |\n",
    "|'center left'  | 6  |\n",
    "|'center right' | 7  |\n",
    "|'lower center' | 8  |\n",
    "|'upper center' | 9  |\n",
    "|'center'       | 10 |"
   ]
  },
  {
   "cell_type": "code",
   "execution_count": null,
   "metadata": {},
   "outputs": [],
   "source": [
    "fig = plt.figure(figsize=(4,3), dpi=300)\n",
    "\n",
    "# left, bottom, width, height (range 0 to 1)\n",
    "ax1 = fig.add_axes([0.1, 0.1, 0.8, 0.8]) \n",
    "\n",
    "# Generate fake data\n",
    "x = np.linspace(0,2*np.pi,100)\n",
    "y1 = np.sin(x)\n",
    "y2 = np.cos(x)\n",
    "\n",
    "# Plot \n",
    "ax1.plot(x, y1,label='sin(x)')\n",
    "ax1.plot(x, y2,label='cos(x)')\n",
    "\n",
    "# Set axis labels\n",
    "ax1.set_xlabel('x')\n",
    "ax1.set_ylabel('y = f(x)')\n",
    "ax1.set_title('Trigonometric functions');\n",
    "\n",
    "# Add legend\n",
    "ax1.legend(loc='upper right')"
   ]
  },
  {
   "cell_type": "markdown",
   "metadata": {},
   "source": [
    "## Publication quality plots\n",
    "\n",
    "Often journals and reports have some standard specifications for figures. Below is an example script that illustrates generating a publication quality figure using matplotlib. The typical process for generating the figure is\n",
    "\n",
    "1. Getting your data in a clean format\n",
    "2. Use matplotlib to plot the data\n",
    "3. Save the plot as a SVG image\n",
    "4. Use Inkskape/Ipe/Adobe Illustrator or any other SVG image editor to add annotations or combine multiple plots into a single figure\n",
    "\n",
    "Below we provide a skeleton script that contains all the elements needed for a publication quality plot from matplotlib."
   ]
  },
  {
   "cell_type": "code",
   "execution_count": null,
   "metadata": {},
   "outputs": [],
   "source": [
    "import numpy \n",
    "import matplotlib as mpl\n",
    "import matplotlib.pyplot as plt\n",
    "import matplotlib.gridspec as gridspec\n",
    "import matplotlib.patches as patches\n",
    "\n",
    "axlabelsize=14\n",
    "\n",
    "data = [[ 0, 95.23238380809595, 95.7721139430285],\n",
    "        [ 1, 100.3898050974513, 100.809595202399],\n",
    "        [ 2, 98.05097451274362, 98.7706146926537],\n",
    "        [ 3, 90.61469265367316, 91.1544227886057]]\n",
    "         \n",
    "data = numpy.array(data)\n",
    "\n",
    "data[:,2] = data[:,2] - data[:,1]\n",
    "\n",
    "# Generate matplotlib figure\n",
    "# Figure size is in inches\n",
    "fig = plt.figure(figsize=(3.5,3.5))\n",
    "\n",
    "# Create a grid for different axes\n",
    "gs = gridspec.GridSpec(3,3)\n",
    "\n",
    "# Create the individual axes\n",
    "ax = fig.add_subplot(gs[0:,0:])\n",
    "\n",
    "# Set all fonts to serif type and use latex to render fonts\n",
    "# plt.style.use('vvplot')\n",
    "\n",
    "ax.bar(data[:,0], data[:,1], width=0.8, color='gray', yerr=data[:,2],\n",
    "       edgecolor='k', linewidth=0.5,\n",
    "       error_kw=dict(ecolor='black', lw=1, capsize=4, capthick=1))\n",
    "\n",
    "ax.set_xticks(data[:,0]+0.4)\n",
    "ax.set_xticklabels(data[:,0].astype(numpy.int))\n",
    "\n",
    "\n",
    "# Set axes labels\n",
    "# Here we are using some latex text for labels\n",
    "ax.set_xlabel(r\"$s$\", fontsize = axlabelsize)\n",
    "ax.set_ylabel(r\"$\\beta \\mu^{ex}$\", fontsize=axlabelsize)\n",
    "\n",
    "\n",
    "ax.text(2.5, 102, r'4 patch', fontsize=11)\n",
    "\n",
    "\n",
    "# Set the plot grid and axes limits\n",
    "ax.set_ylim(80, 105)\n",
    "\n",
    "# Set axes tics\n",
    "ax.yaxis.set_ticks([80, 90, 100])\n",
    "\n",
    "\n",
    "# Save a png file\n",
    "gs.tight_layout(fig)\n",
    "plt.show()"
   ]
  },
  {
   "cell_type": "markdown",
   "metadata": {},
   "source": [
    "## Further reading"
   ]
  },
  {
   "cell_type": "markdown",
   "metadata": {},
   "source": [
    "* http://www.matplotlib.org - The project web page for matplotlib.\n",
    "* http://matplotlib.org/gallery.html - A large gallery of plots created with matplotlib along with the source code"
   ]
  }
 ],
 "metadata": {
  "kernelspec": {
   "display_name": "Python [conda env:py3]",
   "language": "python",
   "name": "conda-env-py3-py"
  },
  "language_info": {
   "codemirror_mode": {
    "name": "ipython",
    "version": 3
   },
   "file_extension": ".py",
   "mimetype": "text/x-python",
   "name": "python",
   "nbconvert_exporter": "python",
   "pygments_lexer": "ipython3",
   "version": "3.7.6"
  }
 },
 "nbformat": 4,
 "nbformat_minor": 1
}
