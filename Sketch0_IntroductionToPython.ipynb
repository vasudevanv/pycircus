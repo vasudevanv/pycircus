{
 "cells": [
  {
   "cell_type": "markdown",
   "metadata": {},
   "source": [
    "# Introduction to Python for Physicists and Engineers "
   ]
  },
  {
   "cell_type": "markdown",
   "metadata": {},
   "source": [
    "## Python"
   ]
  },
  {
   "cell_type": "markdown",
   "metadata": {},
   "source": [
    "[Python](http://www.python.org/) is a high-level, highly extensible, object-oriented programming language. Python is open source, cross-platform (runs on Windows / Mac OS X / Linux), immensely flexible, and extremely easy to use and learn. \n",
    "Python is an interpreted language, i.e., code is read and executed on a line-by-line basis. Some of the key features, advantages and disadvantages are listed below.\n",
    "\n",
    "### Key features:\n",
    "\n",
    "* Interpreted language\n",
    "* Clean and easy-to-read code construct \n",
    "* Intuitive syntax\n",
    "* Fewer lines of code = Fewer bugs\n",
    "* dynamically typed\n",
    "* automatic memory management\n",
    "\n",
    "### Advantages:\n",
    "\n",
    "* Ease of programming - minimizing the time for development, debugging and maintainence \n",
    "* Modular and object-oriented programming with a good system for packaging and re-use of code. This often results in more transparent, maintainable and bug-free code.\n",
    "* Documentation tightly integrated with the code.\n",
    "* Availability of a large collection of libraries/add-on packages.\n",
    "\n",
    "### Disadvantages:\n",
    "\n",
    "* Being an interpreted language, execution of python code is slower compared to compiled languages, such as C/C++ or Fortran.\n"
   ]
  },
  {
   "cell_type": "markdown",
   "metadata": {},
   "source": [
    "## What makes python suitable for scientific computing?"
   ]
  },
  {
   "cell_type": "markdown",
   "metadata": {},
   "source": [
    "* Scientific libraries and environments\n",
    "    * [numpy](http://numpy.scipy.org) - Numerical Python\n",
    "    * [scipy](http://www.scipy.org) -  Scientific Python\n",
    "    * [matplotlib](http://www.matplotlib.org) - Plotting library\n",
    "    * [pandas](http://pandas.pydata.org) - Data analysis library\n",
    "* Integration with highly optimized libraries such as BLAS/ATLAS/LAPACK\n",
    "* Easy interfacing with other programming languages such as C/C++/Fortran\n",
    "* Large community of users, easy to find help and documentation.\n",
    "* Free, i.e., no licensing cost\n",
    "* Growing support through domain-specific code\n"
   ]
  },
  {
   "cell_type": "markdown",
   "metadata": {},
   "source": [
    "## Versions of Python\n",
    "\n",
    "Python 3 is the current version of the language and we will be using that for our discussion. Some operating systems and software tools ship with an older version Python 2. Python 3 is not backward compatible with Python 2."
   ]
  },
  {
   "cell_type": "markdown",
   "metadata": {},
   "source": [
    "## Installing Python\n",
    "\n",
    "Most linux distributions and Apple's Mac OS X come with python installed. Currently this is version 2.7. Installers for Python 3.3 are available through the package management program on these operating systems. Windows on the other hand lacks a good packaging system, so the easiest way to setup a Python environment is to install a pre-packaged distribution. \n",
    "\n",
    "The python software foundation distributes a python installer for all platforms and you can install that. For installing addition libraries you can use python's built-in package management system ``pip``. While this is perfectly reasonable, there is a simpler way to install python and all the commonly used python packages such as numpy and scipy via pre-packaged scientific python distributions. These pre-packaged distributions are usually cross-platform. The most popular and preferred distribution is [Anaconda](http://continuum.io/downloads.html) by  Continuum Analytics'. It is cross-platform, has a permissive license, and includes the awesome conda package manager that makes installing additional packages and managing virtual development environments really easy. \n",
    "\n",
    "We normally use *miniconda*, as it's lightweight and provides everything we need to simplify dealing with different environments and managing dependencies. You can download miniconda installer for your OS [here](https://docs.conda.io/en/latest/miniconda.html). The installation instructions are available on the conda website and are self-explanatory.\n",
    "\n",
    "I personally keep my linux/mac installation of `miniconda` at `/home/username/Applications/anaconda` and my windows installation at `C:\\Users\\username\\Software\\anaconda`. I also add these paths (and any related subdirectories) to the `PATH` environment variable. \n",
    "\n",
    "### Conda environments\n",
    "\n",
    "One of the key features of the Anaconda python distributions is the `conda` package manager. `conda` allows you to create and work with virtual environments.\n",
    "\n",
    "#### What is a virtual environment?\n",
    "*A virtual environment is a self-contained directory tree that contains a Python installation for a particular version of Python, plus a number of additional packages.* - [The Python Tutorial](https://docs.python.org/3/tutorial/venv.html)\n",
    "\n",
    "#### Why use virtual environments? \n",
    "If python packages are installed system-wide, there could potentially be many problems such as:\n",
    "\n",
    "- Conflicts with system dependencies, e.g., on Linux, system scripts may depend on specific version of a package. On the other side our Python application may require different version of the same package.\n",
    "- Conflicting dependencies across different projects/applications\n",
    "- Tedious testing of a single project/application against different Python versions or different versions of a specific package (would include upgrading/downgrading packages each time testing is performed)\n",
    "\n",
    "Using virtual enviroments we can create isolated installations <ins>without interfering with the behaviour of other python applications running on the same system<ins>.\n",
    "    \n",
    "**It's highly recommended (if not mandatory) to always work inside a virtual environment.** <br />\n",
    "**It's highly recommended (if not mandatory) to never do global installs anymore.**"
   ]
  },
  {
   "cell_type": "markdown",
   "metadata": {},
   "source": [
    "`conda` provides commands to create and manage virtual environments. The [`conda` documentation](https://docs.conda.io/projects/conda/en/latest/user-guide/tasks/manage-environments.html) provides details on managing environments. Here we provide only some best practices when using environments.\n",
    "\n",
    "- The `base` environment that is created when you install `miniconda` contains the package manager. Do not install additional packages to this environment. We recommend using this environment only for keeping the `conda` package manager updated.\n",
    "- `conda` environments can have a large disk footprint. For this reason, we recommend having a general purpose environment for use across most of your projects/applications. \n",
    "- If there is need for locking version numbers of dependencies or collaborating using a specific workflow, create a virtual environment specifically for that project.\n",
    "- Regularly update your environments and clean up/remove unused environments. I personally audit my environments every 6 months.\n"
   ]
  },
  {
   "cell_type": "markdown",
   "metadata": {},
   "source": [
    "## Running Python\n",
    "\n",
    "Apart from referring to the programming language, the term ``Python`` is also often used to refer to [CPython](http://en.wikipedia.org/wiki/CPython) - the standard implementation of the interpreter that actually runs python code on the computer. There are many different methods through which the user can interact with the python interpreter. Each of these methods have their quirks and which one to use is a personal choice that would depend on your programming workflow."
   ]
  },
  {
   "cell_type": "markdown",
   "metadata": {},
   "source": [
    "### Python interpreter"
   ]
  },
  {
   "cell_type": "markdown",
   "metadata": {},
   "source": [
    "The standard way to use the Python programming language is to use the Python interpreter. We can start the interpreter by simply typing ``python`` at the command line, and interactively type python code into the interpreter. \n",
    "\n",
    "<img src=\"images/python_interpreter.svg\" width=\"600\">\n",
    "\n",
    "This is often how we want to work when doing small calculations or running quick checks. But the standard python interpreter is not very convenient for developing larger scientific applications due to a number of limitations."
   ]
  },
  {
   "cell_type": "markdown",
   "metadata": {},
   "source": [
    "### Python program files"
   ]
  },
  {
   "cell_type": "markdown",
   "metadata": {},
   "source": [
    "Python code is usually stored in text files with the file ending \".py\", for example ``test.py``. Every line in a Python program file is assumed to be a Python statement, or part thereof. The only exceptions are comment lines, which start with the character ``#``. Comment lines are ignored by the Python interpreter.\n",
    "\n",
    "To execute/run our program, we invoke the python interpreter in a non-interactive mode from the command prompt. For example, to run a python program ``test.py`` use::\n",
    "\n",
    "    $ python test.py\n",
    "\n",
    "Note: On UNIX systems it is common to define the path to the interpreter on the first line of the program (note that this is a comment line as far as the Python interpreter is concerned):\n",
    "    #!/usr/bin/env python"
   ]
  },
  {
   "cell_type": "markdown",
   "metadata": {},
   "source": [
    "### IPython Console\n",
    "\n",
    "IPython is an interactive shell that addresses the limitation of the standard python interpreter, and it is a work-horse for scientific use of python. It provides an interactive prompt to the python interpreter with a greatly improved user-friendliness.\n",
    "\n",
    "<img src=\"images/ipython_interpreter.svg\" width=\"600\"> \n",
    "\n",
    "Some of the many useful features of IPython includes:\n",
    "\n",
    "* Command history, which can be browsed with the up and down arrows on the keyboard.\n",
    "* Tab auto-completion.\n",
    "* In-line editing of code.\n",
    "* Object introspection, and automatic extract of documentation strings from python objects like classes and functions.\n",
    "* Good interaction with operating system shell.\n",
    "* Support for multiple parallel back-end processes, that can run on computing clusters or cloud services like Amazon EE2.\n"
   ]
  },
  {
   "cell_type": "markdown",
   "metadata": {},
   "source": [
    "### Jupyter notebooks\n",
    "\n",
    "The Jupyter notebook is an HTML-based notebook environment for Python, similar to Mathematica or Maple. The notebook consists of a  ``cells`` by means of which code and supporting doucmentation can be organized in an extremely structured manner. This document is an example of an ipython notebook. The contents of an IPython notebook are stored  in the JSON format. The advantage of this format is that we can mix text, Python code and code output. That said, it requires the Jupyter notebook program to be installed to run it. There are some plugins and other goodies by which the contents of a Jupyter notebook can be exported to different formats. \n",
    "\n",
    "Jupyter notebooks are usually run on localhost, i.e. on the same computer that is running the web browser. To start a new notebook session, run the following command:\n",
    "\n",
    "    $ jupyter notebook\n",
    "\n",
    "This will open a new browser tab/window with an index page where existing notebooks in the current directory (from where the command was invoked) are shown. You can work with existing notebooks, create new notebooks or delete notebooks from this window. "
   ]
  },
  {
   "cell_type": "markdown",
   "metadata": {},
   "source": [
    "### Spyder\n",
    "\n",
    "[Spyder](http://code.google.com/p/spyderlib/) is a IDE for scientific computing with python. It has a MATLAB-like interface with an editor and command window panes. It has advanced features for editing, executing and debugging code. Some features include syntax highlighting, dynamic code introspection, integration with the python debugger, a variable explorer and integration with the IPython command prompt.\n",
    "\n",
    "<img src=\"images/spyder.png\" width=\"800\">"
   ]
  },
  {
   "cell_type": "markdown",
   "metadata": {},
   "source": [
    "### Visual Studio Code\n",
    "\n",
    "[Visual Studio Code](https://code.visualstudio.com/) is a general purpose IDE. It has excellent support for python through its [python extensions](https://code.visualstudio.com/docs/languages/python). It has advanced features for editing, executing and debugging code. Some features include syntax highlighting, dynamic code introspection, integration with the python debugger, a built-in terminal and with the python extension, ability to work with virtual environments. \n",
    "\n",
    "This is my prefferred method for working with python code. See the [First steps with VSCode](./guides/0-FirstSteps_with_VSCode.md) document for more details on how to get started with `vscode` for python.\n"
   ]
  },
  {
   "cell_type": "markdown",
   "metadata": {},
   "source": [
    "## Further reading"
   ]
  },
  {
   "cell_type": "markdown",
   "metadata": {},
   "source": [
    " * [Python](http://www.python.org). The official Python web site.\n",
    " * [Python tutorials](http://docs.python.org/2/tutorial). The official Python tutorials.\n",
    " * [Think Python](http://www.greenteapress.com/thinkpython). A free book on Python."
   ]
  }
 ],
 "metadata": {
  "kernelspec": {
   "display_name": "Python 3",
   "language": "python",
   "name": "python3"
  },
  "language_info": {
   "codemirror_mode": {
    "name": "ipython",
    "version": 3
   },
   "file_extension": ".py",
   "mimetype": "text/x-python",
   "name": "python",
   "nbconvert_exporter": "python",
   "pygments_lexer": "ipython3",
   "version": "3.8.2"
  }
 },
 "nbformat": 4,
 "nbformat_minor": 1
}
